{
 "cells": [
  {
   "cell_type": "markdown",
   "metadata": {},
   "source": [
    "# This notebook is an introduction to tensorts in TensorFlow framework"
   ]
  },
  {
   "cell_type": "code",
   "execution_count": 15,
   "metadata": {},
   "outputs": [],
   "source": [
    "import tensorflow as tf\n",
    "import numpy as np"
   ]
  },
  {
   "cell_type": "code",
   "execution_count": 92,
   "metadata": {},
   "outputs": [],
   "source": [
    "np.random.seed(42)"
   ]
  },
  {
   "cell_type": "markdown",
   "metadata": {},
   "source": [
    "### Play around with some basic tensor operations"
   ]
  },
  {
   "cell_type": "markdown",
   "metadata": {},
   "source": [
    "### Create a constant tensor"
   ]
  },
  {
   "cell_type": "markdown",
   "metadata": {},
   "source": [
    "https://www.tensorflow.org/api_docs/python/tf/constant"
   ]
  },
  {
   "cell_type": "markdown",
   "metadata": {},
   "source": [
    "dtype:   \n",
    "tf.string: String variable   \n",
    "tf.float32: Floating point variable   \n",
    "tf.int16: Integer variable   \n",
    "tf.int32: Integer variable   \n",
    "tf.int64: Integer variable   "
   ]
  },
  {
   "cell_type": "markdown",
   "metadata": {},
   "source": [
    "tf.constant(\n",
    "    value, dtype=None, shape=None, name='Const'\n",
    ")"
   ]
  },
  {
   "cell_type": "code",
   "execution_count": 4,
   "metadata": {},
   "outputs": [
    {
     "name": "stdout",
     "output_type": "stream",
     "text": [
      "tf.Tensor(10, shape=(), dtype=int16)\n"
     ]
    }
   ],
   "source": [
    "var1 = tf.constant(10, tf.int16)\n",
    "print(var1)"
   ]
  },
  {
   "cell_type": "code",
   "execution_count": 6,
   "metadata": {},
   "outputs": [
    {
     "name": "stdout",
     "output_type": "stream",
     "text": [
      "tf.Tensor(10, shape=(), dtype=int16)\n"
     ]
    }
   ],
   "source": [
    "var2 = tf.constant(10, tf.int16, name=\"myVar2\")\n",
    "print(var2)"
   ]
  },
  {
   "cell_type": "code",
   "execution_count": 7,
   "metadata": {},
   "outputs": [
    {
     "name": "stdout",
     "output_type": "stream",
     "text": [
      "tf.Tensor(10.5, shape=(), dtype=float32)\n"
     ]
    }
   ],
   "source": [
    "var3 = tf.constant(10.5, tf.float32)\n",
    "print(var3)"
   ]
  },
  {
   "cell_type": "code",
   "execution_count": 8,
   "metadata": {},
   "outputs": [
    {
     "name": "stdout",
     "output_type": "stream",
     "text": [
      "tf.Tensor(b'MyString', shape=(), dtype=string)\n"
     ]
    }
   ],
   "source": [
    "var4 = tf.constant(\"MyString\", tf.string)\n",
    "print(var4)"
   ]
  },
  {
   "cell_type": "code",
   "execution_count": 10,
   "metadata": {},
   "outputs": [
    {
     "name": "stdout",
     "output_type": "stream",
     "text": [
      "tf.Tensor([1 2 3 4 5], shape=(5,), dtype=int16)\n"
     ]
    }
   ],
   "source": [
    "var5 = tf.constant([1,2,3,4,5], tf.int16)\n",
    "print(var5)"
   ]
  },
  {
   "cell_type": "code",
   "execution_count": 11,
   "metadata": {},
   "outputs": [
    {
     "name": "stdout",
     "output_type": "stream",
     "text": [
      "tf.Tensor([1. 2. 3. 4. 5.], shape=(5,), dtype=float32)\n"
     ]
    }
   ],
   "source": [
    "var6 = tf.constant([1.,2.,3.,4.,5.], tf.float32)\n",
    "print(var6)"
   ]
  },
  {
   "cell_type": "code",
   "execution_count": 12,
   "metadata": {},
   "outputs": [
    {
     "name": "stdout",
     "output_type": "stream",
     "text": [
      "tf.Tensor([b'1' b'2' b'3'], shape=(3,), dtype=string)\n"
     ]
    }
   ],
   "source": [
    "var7 = tf.constant([\"1\",\"2\",\"3\"], tf.string)\n",
    "print(var7)"
   ]
  },
  {
   "cell_type": "code",
   "execution_count": 14,
   "metadata": {},
   "outputs": [
    {
     "name": "stdout",
     "output_type": "stream",
     "text": [
      "tf.Tensor(\n",
      "[[1 2]\n",
      " [3 4]\n",
      " [5 6]], shape=(3, 2), dtype=int16)\n"
     ]
    }
   ],
   "source": [
    "var8 = tf.constant([ [1, 2],  \n",
    "                     [3, 4],\n",
    "                     [5, 6] \n",
    "                   ],tf.int16)  \n",
    "print(var8)  "
   ]
  },
  {
   "cell_type": "code",
   "execution_count": 16,
   "metadata": {},
   "outputs": [
    {
     "name": "stdout",
     "output_type": "stream",
     "text": [
      "tf.Tensor(\n",
      "[[1 2]\n",
      " [3 4]\n",
      " [5 6]], shape=(3, 2), dtype=int16)\n"
     ]
    }
   ],
   "source": [
    "var9 = tf.constant(np.matrix('1 2; 3 4; 5 6'),tf.int16)  \n",
    "print(var9)"
   ]
  },
  {
   "cell_type": "code",
   "execution_count": 18,
   "metadata": {},
   "outputs": [
    {
     "name": "stdout",
     "output_type": "stream",
     "text": [
      "(3, 2)\n"
     ]
    }
   ],
   "source": [
    "print(var9.shape)"
   ]
  },
  {
   "cell_type": "code",
   "execution_count": 17,
   "metadata": {},
   "outputs": [
    {
     "name": "stdout",
     "output_type": "stream",
     "text": [
      "tf.Tensor([0. 0. 0. 0. 0. 0. 0. 0. 0. 0. 0. 0. 0. 0. 0.], shape=(15,), dtype=float32)\n"
     ]
    }
   ],
   "source": [
    "# create vector of zeros\n",
    "var10 = tf.zeros(15)\n",
    "print(var10) "
   ]
  },
  {
   "cell_type": "code",
   "execution_count": 22,
   "metadata": {},
   "outputs": [
    {
     "name": "stdout",
     "output_type": "stream",
     "text": [
      "tf.Tensor(\n",
      "[[1. 1.]\n",
      " [1. 1.]\n",
      " [1. 1.]], shape=(3, 2), dtype=float32)\n"
     ]
    }
   ],
   "source": [
    "# create vector of ones in a shape of matrix, get the shape of another tensor\n",
    "var11 = tf.ones(var9.shape)\n",
    "print(var11)"
   ]
  },
  {
   "cell_type": "code",
   "execution_count": 23,
   "metadata": {},
   "outputs": [
    {
     "name": "stdout",
     "output_type": "stream",
     "text": [
      "<dtype: 'float32'>\n"
     ]
    }
   ],
   "source": [
    "print(var11.dtype)"
   ]
  },
  {
   "cell_type": "code",
   "execution_count": 24,
   "metadata": {},
   "outputs": [
    {
     "name": "stdout",
     "output_type": "stream",
     "text": [
      "<dtype: 'float32'>\n",
      "<dtype: 'int16'>\n"
     ]
    }
   ],
   "source": [
    "# casting as another type\n",
    "var12 = tf.constant(5, tf.float32)\n",
    "var13 = tf.cast(var12, tf.int16)\n",
    "\n",
    "print(var12.dtype)  \n",
    "print(var13.dtype)"
   ]
  },
  {
   "cell_type": "markdown",
   "metadata": {},
   "source": [
    "### Generating tensors based on well known distributions"
   ]
  },
  {
   "cell_type": "code",
   "execution_count": 67,
   "metadata": {},
   "outputs": [
    {
     "name": "stdout",
     "output_type": "stream",
     "text": [
      "tf.Tensor(\n",
      "[[6.911309  6.964861 ]\n",
      " [2.4212408 3.7391064]\n",
      " [3.2423325 5.9750566]], shape=(3, 2), dtype=float32)\n"
     ]
    }
   ],
   "source": [
    "randNorm = tf.random.normal(shape = (3,2), mean=5.0, stddev=2.0)\n",
    "print(randNorm)"
   ]
  },
  {
   "cell_type": "code",
   "execution_count": 69,
   "metadata": {},
   "outputs": [
    {
     "name": "stdout",
     "output_type": "stream",
     "text": [
      "tf.Tensor(\n",
      "[[3 8]\n",
      " [6 5]], shape=(2, 2), dtype=int32)\n"
     ]
    }
   ],
   "source": [
    "randUniform = tf.random.uniform(shape = (2,2), maxval=10, dtype = tf.int32)\n",
    "print(randUniform)"
   ]
  },
  {
   "cell_type": "markdown",
   "metadata": {},
   "source": [
    "### Useful operations"
   ]
  },
  {
   "cell_type": "markdown",
   "metadata": {},
   "source": [
    "- tf.exp(a)\n",
    "- tf.sqrt(a)\n",
    "- tf.add(a,b)\n",
    "- tf.substract(a,b)\n",
    "- tf.multiply(a,b)\n",
    "- tf.div(a,b)\n",
    "- tf.pow(a,b)"
   ]
  },
  {
   "cell_type": "markdown",
   "metadata": {},
   "source": [
    "https://www.tensorflow.org/api_docs/python/tf/math"
   ]
  },
  {
   "cell_type": "code",
   "execution_count": 31,
   "metadata": {},
   "outputs": [
    {
     "name": "stdout",
     "output_type": "stream",
     "text": [
      "tf.Tensor(\n",
      "[[1. 2.]\n",
      " [3. 4.]\n",
      " [5. 6.]], shape=(3, 2), dtype=float32)\n",
      "tf.Tensor(\n",
      "[[1. 1.]\n",
      " [1. 1.]\n",
      " [1. 1.]], shape=(3, 2), dtype=float32)\n",
      "tf.Tensor(\n",
      "[[2. 3.]\n",
      " [4. 5.]\n",
      " [6. 7.]], shape=(3, 2), dtype=float32)\n"
     ]
    }
   ],
   "source": [
    "var14 = tf.constant(np.matrix('1 2; 3 4; 5 6'),tf.float32)\n",
    "print(var14)\n",
    "var15 = tf.ones(var14.shape,tf.float32)\n",
    "print(var15)\n",
    "\n",
    "print(tf.add(var14, var15))"
   ]
  },
  {
   "cell_type": "code",
   "execution_count": 33,
   "metadata": {},
   "outputs": [
    {
     "name": "stdout",
     "output_type": "stream",
     "text": [
      "tf.Tensor(\n",
      "[[ 6. 10.]\n",
      " [12. 12.]\n",
      " [10.  6.]], shape=(3, 2), dtype=float32)\n"
     ]
    }
   ],
   "source": [
    "# notice, this is an element-wise multiplication, not a matrix multiplication\n",
    "var16 = tf.constant(np.matrix('1 2; 3 4; 5 6'),tf.float32)\n",
    "var17 = tf.constant(np.matrix('6 5; 4 3; 2 1'),tf.int16)\n",
    "\n",
    "print(tf.multiply(var16, tf.cast(var17, tf.float32)))"
   ]
  },
  {
   "cell_type": "code",
   "execution_count": 64,
   "metadata": {},
   "outputs": [
    {
     "name": "stdout",
     "output_type": "stream",
     "text": [
      "tf.Tensor(3.0, shape=(), dtype=float32)\n"
     ]
    }
   ],
   "source": [
    "print(tf.reduce_mean(tf.constant([1,2,3,4,5], tf.float32)))"
   ]
  },
  {
   "cell_type": "code",
   "execution_count": 90,
   "metadata": {},
   "outputs": [
    {
     "name": "stdout",
     "output_type": "stream",
     "text": [
      "tf.Tensor(8, shape=(), dtype=int32)\n",
      "\n",
      "Can also extract scalar value: 8\n"
     ]
    }
   ],
   "source": [
    "# you can also do this:\n",
    "x1 = tf.Variable(3, name = \"x1\")\n",
    "x2 = tf.Variable(5, name = \"x2\")\n",
    "y = x1 + x2\n",
    "print(y)\n",
    "\n",
    "print(\"\\nCan also extract scalar value:\", y.numpy())"
   ]
  },
  {
   "cell_type": "markdown",
   "metadata": {},
   "source": [
    "### Create a variable tensor"
   ]
  },
  {
   "cell_type": "markdown",
   "metadata": {},
   "source": [
    "tf.Variable(\n",
    "    initial_value=None, trainable=None, validate_shape=True, caching_device=None,\n",
    "    name=None, variable_def=None, dtype=None, import_scope=None, constraint=None,\n",
    "    synchronization=tf.VariableSynchronization.AUTO,\n",
    "    aggregation=tf.compat.v1.VariableAggregation.NONE, shape=None\n",
    ")"
   ]
  },
  {
   "cell_type": "markdown",
   "metadata": {},
   "source": [
    "Use get_variable for older versions of TensorFlow"
   ]
  },
  {
   "cell_type": "code",
   "execution_count": 40,
   "metadata": {},
   "outputs": [
    {
     "name": "stdout",
     "output_type": "stream",
     "text": [
      "<tf.Variable 'Variable:0' shape=() dtype=string, numpy=b'my variable'>\n"
     ]
    }
   ],
   "source": [
    "var17 = tf.Variable(\"my variable\")\n",
    "print(var17)"
   ]
  },
  {
   "cell_type": "code",
   "execution_count": 41,
   "metadata": {},
   "outputs": [
    {
     "name": "stdout",
     "output_type": "stream",
     "text": [
      "<tf.Variable 'Variable:0' shape=() dtype=float32, numpy=1.0>\n"
     ]
    }
   ],
   "source": [
    "var18 = tf.Variable(1.)\n",
    "print(var18)"
   ]
  },
  {
   "cell_type": "code",
   "execution_count": 42,
   "metadata": {},
   "outputs": [
    {
     "name": "stdout",
     "output_type": "stream",
     "text": [
      "<tf.Variable 'Variable:0' shape=(3, 2) dtype=int64, numpy=\n",
      "array([[1, 2],\n",
      "       [3, 4],\n",
      "       [5, 6]])>\n"
     ]
    }
   ],
   "source": [
    "var19 = tf.Variable(np.matrix('1 2; 3 4; 5 6'))\n",
    "print(var19)"
   ]
  },
  {
   "cell_type": "markdown",
   "metadata": {},
   "source": [
    "### TensorFlow graph operations"
   ]
  },
  {
   "cell_type": "markdown",
   "metadata": {},
   "source": [
    "@tf.function converts a Python function to its graph representation"
   ]
  },
  {
   "cell_type": "code",
   "execution_count": 76,
   "metadata": {},
   "outputs": [
    {
     "data": {
      "text/plain": [
       "84.0"
      ]
     },
     "execution_count": 76,
     "metadata": {},
     "output_type": "execute_result"
    }
   ],
   "source": [
    "@tf.function\n",
    "def multiply(x,y):\n",
    "    return x*y\n",
    "\n",
    "@tf.function\n",
    "def add(x,y):\n",
    "    return x+y\n",
    "\n",
    "x1 = tf.constant(2, name=\"x1\", dtype=tf.float32)\n",
    "x2 = tf.constant(5, name=\"x2\", dtype=tf.float32)\n",
    "x3 = tf.constant(12, name=\"x3\", dtype=tf.float32)\n",
    "\n",
    "multiply(add(x1,x2),x3).numpy()"
   ]
  },
  {
   "cell_type": "code",
   "execution_count": 77,
   "metadata": {},
   "outputs": [
    {
     "data": {
      "text/plain": [
       "84.0"
      ]
     },
     "execution_count": 77,
     "metadata": {},
     "output_type": "execute_result"
    }
   ],
   "source": [
    "# same result:\n",
    "tf.multiply(tf.add(x1,x2),x3).numpy()"
   ]
  },
  {
   "cell_type": "markdown",
   "metadata": {},
   "source": []
  },
  {
   "cell_type": "code",
   "execution_count": null,
   "metadata": {},
   "outputs": [],
   "source": []
  },
  {
   "cell_type": "code",
   "execution_count": null,
   "metadata": {},
   "outputs": [],
   "source": []
  },
  {
   "cell_type": "code",
   "execution_count": null,
   "metadata": {},
   "outputs": [],
   "source": []
  },
  {
   "cell_type": "code",
   "execution_count": null,
   "metadata": {},
   "outputs": [],
   "source": []
  },
  {
   "cell_type": "code",
   "execution_count": null,
   "metadata": {},
   "outputs": [],
   "source": []
  },
  {
   "cell_type": "code",
   "execution_count": null,
   "metadata": {},
   "outputs": [],
   "source": []
  },
  {
   "cell_type": "code",
   "execution_count": null,
   "metadata": {},
   "outputs": [],
   "source": []
  },
  {
   "cell_type": "code",
   "execution_count": null,
   "metadata": {},
   "outputs": [],
   "source": []
  },
  {
   "cell_type": "code",
   "execution_count": null,
   "metadata": {},
   "outputs": [],
   "source": []
  }
 ],
 "metadata": {
  "kernelspec": {
   "display_name": "Python 3",
   "language": "python",
   "name": "python3"
  },
  "language_info": {
   "codemirror_mode": {
    "name": "ipython",
    "version": 3
   },
   "file_extension": ".py",
   "mimetype": "text/x-python",
   "name": "python",
   "nbconvert_exporter": "python",
   "pygments_lexer": "ipython3",
   "version": "3.8.3"
  }
 },
 "nbformat": 4,
 "nbformat_minor": 4
}

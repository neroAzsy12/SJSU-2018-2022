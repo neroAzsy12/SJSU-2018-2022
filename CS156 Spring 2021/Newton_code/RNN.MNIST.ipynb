{
 "cells": [
  {
   "cell_type": "markdown",
   "metadata": {},
   "source": [
    "# This notebook shows implementation of a simple RNN to predict handwritten digits (MNIST)"
   ]
  },
  {
   "cell_type": "code",
   "execution_count": 29,
   "metadata": {},
   "outputs": [],
   "source": [
    "import numpy as np\n",
    "import pandas as pd\n",
    "import tensorflow as tf\n",
    "from tensorflow import keras\n",
    "from tensorflow.keras.models import Sequential\n",
    "from tensorflow.keras.layers import Dense, Dropout, LSTM\n",
    "from sklearn.model_selection import train_test_split\n",
    "import matplotlib.pyplot as plt\n",
    "import seaborn as sn\n",
    "from sklearn.metrics import confusion_matrix"
   ]
  },
  {
   "cell_type": "code",
   "execution_count": 4,
   "metadata": {},
   "outputs": [],
   "source": [
    "np.random.seed(42)"
   ]
  },
  {
   "cell_type": "markdown",
   "metadata": {},
   "source": [
    "## Load and prepare MNIST data"
   ]
  },
  {
   "cell_type": "code",
   "execution_count": 12,
   "metadata": {},
   "outputs": [
    {
     "data": {
      "text/plain": [
       "((48000, 28, 28), (12000, 28, 28), (10000, 28, 28))"
      ]
     },
     "execution_count": 12,
     "metadata": {},
     "output_type": "execute_result"
    }
   ],
   "source": [
    "input_shape = (28, 28)\n",
    "\n",
    "# the data, split between train and test sets\n",
    "(x_train_valid, y_train_valid), (x_test, y_test) = keras.datasets.fashion_mnist.load_data()\n",
    "x_train, x_validation, y_train, y_validation = train_test_split(x_train_valid, y_train_valid, test_size=0.2, random_state=0)\n",
    "\n",
    "# Scale images to the [0, 1] range\n",
    "x_train = x_train.astype(\"float32\") / 255\n",
    "x_validation = x_validation.astype(\"float32\") / 255\n",
    "x_test = x_test.astype(\"float32\") / 255\n",
    "\n",
    "x_train.shape, x_validation.shape, x_test.shape"
   ]
  },
  {
   "cell_type": "markdown",
   "metadata": {},
   "source": [
    "## Create and train model"
   ]
  },
  {
   "cell_type": "code",
   "execution_count": 33,
   "metadata": {},
   "outputs": [
    {
     "name": "stdout",
     "output_type": "stream",
     "text": [
      "Epoch 1/20\n",
      "1500/1500 [==============================] - 37s 25ms/step - loss: 0.7627 - accuracy: 0.7191 - val_loss: 0.4815 - val_accuracy: 0.8350\n",
      "Epoch 2/20\n",
      "1500/1500 [==============================] - 42s 28ms/step - loss: 0.4889 - accuracy: 0.8278 - val_loss: 0.4399 - val_accuracy: 0.8347\n",
      "Epoch 3/20\n",
      "1500/1500 [==============================] - 43s 29ms/step - loss: 0.4127 - accuracy: 0.8517 - val_loss: 0.3847 - val_accuracy: 0.8550\n",
      "Epoch 4/20\n",
      "1500/1500 [==============================] - 38s 26ms/step - loss: 0.3794 - accuracy: 0.8627 - val_loss: 0.3461 - val_accuracy: 0.8745\n",
      "Epoch 5/20\n",
      "1500/1500 [==============================] - 39s 26ms/step - loss: 0.3547 - accuracy: 0.8717 - val_loss: 0.3555 - val_accuracy: 0.8677\n",
      "Epoch 6/20\n",
      "1500/1500 [==============================] - 39s 26ms/step - loss: 0.3369 - accuracy: 0.8780 - val_loss: 0.3491 - val_accuracy: 0.8720\n",
      "Epoch 7/20\n",
      "1500/1500 [==============================] - 39s 26ms/step - loss: 0.3345 - accuracy: 0.8799 - val_loss: 0.3032 - val_accuracy: 0.8910\n",
      "Epoch 8/20\n",
      "1500/1500 [==============================] - 40s 27ms/step - loss: 0.3096 - accuracy: 0.8886 - val_loss: 0.3021 - val_accuracy: 0.8897\n",
      "Epoch 9/20\n",
      "1500/1500 [==============================] - 40s 27ms/step - loss: 0.2987 - accuracy: 0.8925 - val_loss: 0.3051 - val_accuracy: 0.8910\n",
      "Epoch 10/20\n",
      "1500/1500 [==============================] - 40s 27ms/step - loss: 0.2844 - accuracy: 0.8957 - val_loss: 0.2866 - val_accuracy: 0.9000\n",
      "Epoch 11/20\n",
      "1500/1500 [==============================] - 39s 26ms/step - loss: 0.2768 - accuracy: 0.8994 - val_loss: 0.2867 - val_accuracy: 0.8944\n",
      "Epoch 12/20\n",
      "1500/1500 [==============================] - 37s 25ms/step - loss: 0.2677 - accuracy: 0.9032 - val_loss: 0.3055 - val_accuracy: 0.8921\n",
      "Epoch 13/20\n",
      "1500/1500 [==============================] - 38s 25ms/step - loss: 0.2615 - accuracy: 0.9046 - val_loss: 0.2947 - val_accuracy: 0.8952\n",
      "Epoch 14/20\n",
      "1500/1500 [==============================] - 38s 25ms/step - loss: 0.2620 - accuracy: 0.9040 - val_loss: 0.2729 - val_accuracy: 0.8976\n",
      "Epoch 15/20\n",
      "1500/1500 [==============================] - 39s 26ms/step - loss: 0.2442 - accuracy: 0.9110 - val_loss: 0.2755 - val_accuracy: 0.8997\n",
      "Epoch 16/20\n",
      "1500/1500 [==============================] - 38s 25ms/step - loss: 0.2377 - accuracy: 0.9120 - val_loss: 0.2915 - val_accuracy: 0.8957\n",
      "Epoch 17/20\n",
      "1500/1500 [==============================] - 37s 25ms/step - loss: 0.2385 - accuracy: 0.9127 - val_loss: 0.2711 - val_accuracy: 0.9014\n",
      "Epoch 18/20\n",
      "1500/1500 [==============================] - 37s 25ms/step - loss: 0.2266 - accuracy: 0.9170 - val_loss: 0.2834 - val_accuracy: 0.9019\n",
      "Epoch 19/20\n",
      "1500/1500 [==============================] - 37s 25ms/step - loss: 0.2490 - accuracy: 0.9099 - val_loss: 0.2802 - val_accuracy: 0.8974\n",
      "Epoch 20/20\n",
      "1500/1500 [==============================] - 37s 25ms/step - loss: 0.2498 - accuracy: 0.9110 - val_loss: 0.2802 - val_accuracy: 0.8990\n"
     ]
    },
    {
     "data": {
      "text/plain": [
       "<tensorflow.python.keras.callbacks.History at 0x7fb15a242640>"
      ]
     },
     "execution_count": 33,
     "metadata": {},
     "output_type": "execute_result"
    }
   ],
   "source": [
    "model = Sequential()\n",
    "model.add(LSTM(128, input_shape=input_shape, activation='relu', return_sequences=True))\n",
    "model.add(Dropout(0.2))\n",
    "model.add(LSTM(128, activation='relu'))\n",
    "model.add(Dropout(0.1))\n",
    "model.add(Dense(32, activation='relu'))\n",
    "model.add(Dropout(0.2))\n",
    "model.add(Dense(10, activation='softmax'))\n",
    "\n",
    "model.compile(optimizer=\"adam\", loss='sparse_categorical_crossentropy',metrics=['accuracy'])\n",
    "\n",
    "model.fit(x_train, y_train, validation_data=(x_validation, y_validation), epochs=20)"
   ]
  },
  {
   "cell_type": "markdown",
   "metadata": {},
   "source": [
    "## Evaluate model"
   ]
  },
  {
   "cell_type": "code",
   "execution_count": 34,
   "metadata": {},
   "outputs": [
    {
     "name": "stdout",
     "output_type": "stream",
     "text": [
      "Test accuracy: 0.899399995803833\n"
     ]
    }
   ],
   "source": [
    "score = model.evaluate(x_test, y_test, verbose=0)\n",
    "print(\"Test accuracy:\", score[1])"
   ]
  },
  {
   "cell_type": "code",
   "execution_count": 35,
   "metadata": {},
   "outputs": [],
   "source": [
    "y_pred_prob = model.predict(x_test)\n",
    "y_pred = np.argmax(y_pred_prob, axis=1)"
   ]
  },
  {
   "cell_type": "code",
   "execution_count": 36,
   "metadata": {},
   "outputs": [
    {
     "data": {
      "text/plain": [
       "<matplotlib.axes._subplots.AxesSubplot at 0x7fb1505a1400>"
      ]
     },
     "execution_count": 36,
     "metadata": {},
     "output_type": "execute_result"
    },
    {
     "data": {
      "image/png": "[encoded data removed]",
      "text/plain": [
       "<Figure size 720x504 with 2 Axes>"
      ]
     },
     "metadata": {
      "needs_background": "light"
     },
     "output_type": "display_data"
    }
   ],
   "source": [
    "target_names = ['0','1','2','3','4','5','6','7','8','9']\n",
    "cm = pd.DataFrame(confusion_matrix(y_test, y_pred), index = target_names, columns = target_names)\n",
    "plt.figure(figsize = (10,7))\n",
    "sn.heatmap(cm, annot=True, fmt=\"d\", cmap=\"coolwarm\")"
   ]
  },
  {
   "cell_type": "code",
   "execution_count": null,
   "metadata": {},
   "outputs": [],
   "source": []
  },
  {
   "cell_type": "code",
   "execution_count": 17,
   "metadata": {},
   "outputs": [],
   "source": []
  },
  {
   "cell_type": "code",
   "execution_count": null,
   "metadata": {},
   "outputs": [],
   "source": []
  }
 ],
 "metadata": {
  "kernelspec": {
   "display_name": "Python 3",
   "language": "python",
   "name": "python3"
  },
  "language_info": {
   "codemirror_mode": {
    "name": "ipython",
    "version": 3
   },
   "file_extension": ".py",
   "mimetype": "text/x-python",
   "name": "python",
   "nbconvert_exporter": "python",
   "pygments_lexer": "ipython3",
   "version": "3.8.3"
  }
 },
 "nbformat": 4,
 "nbformat_minor": 4
}

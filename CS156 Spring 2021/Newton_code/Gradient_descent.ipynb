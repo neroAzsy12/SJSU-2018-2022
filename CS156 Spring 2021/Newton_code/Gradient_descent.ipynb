{
 "cells": [
  {
   "cell_type": "markdown",
   "metadata": {},
   "source": [
    "# This notebook implements several gradient descent algorithms"
   ]
  },
  {
   "cell_type": "code",
   "execution_count": 96,
   "metadata": {},
   "outputs": [],
   "source": [
    "import numpy as np\n",
    "from IPython.display import display, Math, Latex\n",
    "import matplotlib.pyplot as plt\n",
    "plt.style.use('seaborn-whitegrid')"
   ]
  },
  {
   "cell_type": "code",
   "execution_count": 115,
   "metadata": {},
   "outputs": [],
   "source": [
    "np.random.seed(42)"
   ]
  },
  {
   "cell_type": "markdown",
   "metadata": {},
   "source": [
    "## Various cost functions"
   ]
  },
  {
   "cell_type": "markdown",
   "metadata": {},
   "source": [
    "#### Mean squared error"
   ]
  },
  {
   "cell_type": "code",
   "execution_count": 92,
   "metadata": {},
   "outputs": [
    {
     "data": {
      "text/latex": [
       "$\\displaystyle  \\frac{1}{n} \\sum_{i}^{n} (y_i - \\hat{y_i})^2 $"
      ],
      "text/plain": [
       "<IPython.core.display.Math object>"
      ]
     },
     "metadata": {},
     "output_type": "display_data"
    }
   ],
   "source": [
    "display(Math(r' \\frac{1}{n} \\sum_{i}^{n} (y_i - \\hat{y_i})^2 '))"
   ]
  },
  {
   "cell_type": "code",
   "execution_count": 42,
   "metadata": {},
   "outputs": [],
   "source": [
    "def mse(x, y, w):\n",
    "    predictions = x.reshape(len(x), 1).dot(w)\n",
    "    loss = (1/len(y)) * np.sum(np.square(predictions - y))\n",
    "    return loss"
   ]
  },
  {
   "cell_type": "markdown",
   "metadata": {},
   "source": [
    "#### Root mean squared error"
   ]
  },
  {
   "cell_type": "code",
   "execution_count": 93,
   "metadata": {},
   "outputs": [
    {
     "data": {
      "text/latex": [
       "$\\displaystyle  \\sqrt[2]{ \\frac{1}{n} \\sum_{i}^{n} (y_i - \\hat{y_i})^2 } $"
      ],
      "text/plain": [
       "<IPython.core.display.Math object>"
      ]
     },
     "metadata": {},
     "output_type": "display_data"
    }
   ],
   "source": [
    "display(Math(r' \\sqrt[2]{ \\frac{1}{n} \\sum_{i}^{n} (y_i - \\hat{y_i})^2 } '))"
   ]
  },
  {
   "cell_type": "code",
   "execution_count": 94,
   "metadata": {},
   "outputs": [],
   "source": [
    "def rmse(x, y, w):\n",
    "    predictions = x.reshape(len(x), 1).dot(w)\n",
    "    loss = np.sqrt( (1/len(y)) * np.sum(np.square(predictions - y)) )\n",
    "    return loss"
   ]
  },
  {
   "cell_type": "markdown",
   "metadata": {},
   "source": [
    "## Gradient descent"
   ]
  },
  {
   "cell_type": "code",
   "execution_count": 97,
   "metadata": {},
   "outputs": [],
   "source": [
    "def gradient_descent_mse(x, y, w, lr, iterations):\n",
    "    errors = []\n",
    "    for i in range(iterations):\n",
    "        predictions = x.reshape(len(x), 1).dot(w)\n",
    "        w = w - lr * (1/len(y)) * x.dot(predictions - y)\n",
    "        #print(\"Iteration\"+str(i)+\": \"+str(mse(x,y,w)))\n",
    "        errors.append(mse(x,y,w))\n",
    "        \n",
    "    #print(str(predictions))\n",
    "    #print(str(w))\n",
    "    return(w,errors)"
   ]
  },
  {
   "cell_type": "code",
   "execution_count": 99,
   "metadata": {},
   "outputs": [
    {
     "name": "stdout",
     "output_type": "stream",
     "text": [
      "[1 2 3 4 5]\n",
      "[1.99999131]\n"
     ]
    },
    {
     "data": {
      "image/png": "[encoded data removed]",
      "text/plain": [
       "<Figure size 432x288 with 1 Axes>"
      ]
     },
     "metadata": {},
     "output_type": "display_data"
    }
   ],
   "source": [
    "x = np.array([1,2,3,4,5])\n",
    "y = np.array([2,4,6,8,10])\n",
    "w_init = np.array([1])\n",
    "\n",
    "w_hat, mse_errors = gradient_descent_mse(x, y, w_init, .01, 100)\n",
    "plt.plot(range(len(mse_errors)), mse_errors, '.', color='blue');\n",
    "print(str(x.reshape(len(x), 1).dot(w)))\n",
    "print(str(w_hat))"
   ]
  },
  {
   "cell_type": "code",
   "execution_count": 109,
   "metadata": {},
   "outputs": [],
   "source": [
    "def gradient_descent_rmse(x, y, w, lr, iterations):\n",
    "    errors = []\n",
    "    for i in range(iterations):\n",
    "        predictions = x.reshape(len(x), 1).dot(w)\n",
    "        w = w - lr * (1/len(y)) * x.dot(predictions - y)\n",
    "        #print(\"Iteration\"+str(i)+\": \"+str(rmse(x,y,w)))\n",
    "        errors.append(rmse(x,y,w))\n",
    "        \n",
    "    #print(str(predictions))\n",
    "    #print(str(w))\n",
    "    return(w, errors)"
   ]
  },
  {
   "cell_type": "code",
   "execution_count": 112,
   "metadata": {},
   "outputs": [
    {
     "name": "stdout",
     "output_type": "stream",
     "text": [
      "[1 2 3 4 5]\n",
      "[1.99999131]\n"
     ]
    },
    {
     "data": {
      "image/png": "[encoded data removed]",
      "text/plain": [
       "<Figure size 432x288 with 1 Axes>"
      ]
     },
     "metadata": {},
     "output_type": "display_data"
    }
   ],
   "source": [
    "x = np.array([1,2,3,4,5])\n",
    "y = np.array([2,4,6,8,10])\n",
    "w_init = np.array([1])\n",
    "\n",
    "w_hat, rmse_errors = gradient_descent_rmse(x, y, w_init, .01, 100)\n",
    "plt.plot(range(len(rmse_errors)), rmse_errors, '.', color='blue');\n",
    "print(str(x.reshape(len(x), 1).dot(w)))\n",
    "print(str(w_hat))"
   ]
  },
  {
   "cell_type": "code",
   "execution_count": null,
   "metadata": {},
   "outputs": [],
   "source": []
  },
  {
   "cell_type": "code",
   "execution_count": null,
   "metadata": {},
   "outputs": [],
   "source": []
  },
  {
   "cell_type": "code",
   "execution_count": null,
   "metadata": {},
   "outputs": [],
   "source": []
  }
 ],
 "metadata": {
  "kernelspec": {
   "display_name": "Python 3",
   "language": "python",
   "name": "python3"
  },
  "language_info": {
   "codemirror_mode": {
    "name": "ipython",
    "version": 3
   },
   "file_extension": ".py",
   "mimetype": "text/x-python",
   "name": "python",
   "nbconvert_exporter": "python",
   "pygments_lexer": "ipython3",
   "version": "3.8.3"
  }
 },
 "nbformat": 4,
 "nbformat_minor": 4
}

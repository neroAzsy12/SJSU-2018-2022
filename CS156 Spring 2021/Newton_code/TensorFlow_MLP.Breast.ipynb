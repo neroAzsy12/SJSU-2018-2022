{
 "cells": [
  {
   "cell_type": "markdown",
   "metadata": {},
   "source": [
    "# This notebook shows how to build a simple MLP using TensorFlow+Keras (Breast cancer dataset)"
   ]
  },
  {
   "cell_type": "code",
   "execution_count": 29,
   "metadata": {},
   "outputs": [],
   "source": [
    "import numpy as np\n",
    "import pandas as pd\n",
    "from sklearn import datasets\n",
    "from sklearn.model_selection import train_test_split\n",
    "from sklearn.preprocessing import StandardScaler\n",
    "import tensorflow\n",
    "from tensorflow.keras.models import Sequential\n",
    "from tensorflow.keras.layers import Dense\n",
    "from tensorflow.keras.utils import to_categorical"
   ]
  },
  {
   "cell_type": "code",
   "execution_count": 2,
   "metadata": {},
   "outputs": [],
   "source": [
    "np.random.seed(42)"
   ]
  },
  {
   "cell_type": "markdown",
   "metadata": {},
   "source": [
    "## Load Breast cancer dataset and prepare for classification"
   ]
  },
  {
   "cell_type": "code",
   "execution_count": 25,
   "metadata": {},
   "outputs": [
    {
     "data": {
      "text/plain": [
       "((569, 30), (569,), array(['malignant', 'benign'], dtype='<U9'))"
      ]
     },
     "execution_count": 25,
     "metadata": {},
     "output_type": "execute_result"
    }
   ],
   "source": [
    "breast = datasets.load_breast_cancer()\n",
    "X = breast.data\n",
    "Y = breast.target\n",
    "class_names = breast.target_names\n",
    "X.shape, Y.shape, class_names"
   ]
  },
  {
   "cell_type": "code",
   "execution_count": 26,
   "metadata": {},
   "outputs": [],
   "source": [
    "scaler = StandardScaler()\n",
    "X_rescaled = scaler.fit_transform(X)"
   ]
  },
  {
   "cell_type": "code",
   "execution_count": 27,
   "metadata": {},
   "outputs": [
    {
     "data": {
      "text/plain": [
       "((455, 30), (455,), (114, 30), (114,))"
      ]
     },
     "execution_count": 27,
     "metadata": {},
     "output_type": "execute_result"
    }
   ],
   "source": [
    "X_train, X_test, Y_train, Y_test = train_test_split(X_rescaled, Y, test_size=0.2, random_state=0)\n",
    "X_train.shape, Y_train.shape, X_test.shape, Y_test.shape"
   ]
  },
  {
   "cell_type": "code",
   "execution_count": 30,
   "metadata": {},
   "outputs": [],
   "source": [
    "# for each output create a vector where the position of the class label for the observation is 1, other positions are 0's\n",
    "Y_train = to_categorical(Y_train, len(class_names))\n",
    "Y_test = to_categorical(Y_test, len(class_names))"
   ]
  },
  {
   "cell_type": "markdown",
   "metadata": {},
   "source": [
    "## Build a model"
   ]
  },
  {
   "cell_type": "markdown",
   "metadata": {},
   "source": [
    "Check available activation functions for your ANN setup: https://keras.io/api/layers/activations/ "
   ]
  },
  {
   "cell_type": "markdown",
   "metadata": {},
   "source": [
    "Check available loss functions for your ANN setup: https://keras.io/api/losses/ "
   ]
  },
  {
   "cell_type": "markdown",
   "metadata": {},
   "source": [
    "Check available weight initializers: https://keras.io/api/layers/initializers/"
   ]
  },
  {
   "cell_type": "markdown",
   "metadata": {},
   "source": [
    "Check available optimizers: https://keras.io/api/optimizers/"
   ]
  },
  {
   "cell_type": "code",
   "execution_count": 42,
   "metadata": {},
   "outputs": [],
   "source": [
    "# Figure out data dimensions\n",
    "num_features = X_train.shape[1]\n",
    "num_classes = len(class_names)\n",
    "\n",
    "# Create the model\n",
    "model = Sequential()\n",
    "model.add(Dense(50, input_shape=(num_features,), activation='relu'))\n",
    "model.add(Dense(32, activation='relu'))\n",
    "model.add(Dense(16, activation='relu'))\n",
    "model.add(Dense(8, activation='relu'))\n",
    "model.add(Dense(num_classes, activation='sigmoid'))\n",
    "\n",
    "# Configure the model and start training\n",
    "model.compile(loss='binary_crossentropy', optimizer='adam', metrics=['accuracy'])"
   ]
  },
  {
   "cell_type": "markdown",
   "metadata": {},
   "source": [
    "## Train the model with training data"
   ]
  },
  {
   "cell_type": "code",
   "execution_count": 43,
   "metadata": {},
   "outputs": [
    {
     "name": "stdout",
     "output_type": "stream",
     "text": [
      "Epoch 1/10\n",
      "2/2 [==============================] - 1s 632ms/step - loss: 0.6774 - accuracy: 0.6456 - val_loss: 0.6858 - val_accuracy: 0.6044\n",
      "Epoch 2/10\n",
      "2/2 [==============================] - 0s 25ms/step - loss: 0.6459 - accuracy: 0.6456 - val_loss: 0.6524 - val_accuracy: 0.6044\n",
      "Epoch 3/10\n",
      "2/2 [==============================] - 0s 26ms/step - loss: 0.6179 - accuracy: 0.6456 - val_loss: 0.6230 - val_accuracy: 0.6154\n",
      "Epoch 4/10\n",
      "2/2 [==============================] - 0s 16ms/step - loss: 0.5905 - accuracy: 0.6484 - val_loss: 0.5951 - val_accuracy: 0.6154\n",
      "Epoch 5/10\n",
      "2/2 [==============================] - 0s 17ms/step - loss: 0.5631 - accuracy: 0.6511 - val_loss: 0.5692 - val_accuracy: 0.6154\n",
      "Epoch 6/10\n",
      "2/2 [==============================] - 0s 16ms/step - loss: 0.5352 - accuracy: 0.6538 - val_loss: 0.5443 - val_accuracy: 0.6154\n",
      "Epoch 7/10\n",
      "2/2 [==============================] - 0s 16ms/step - loss: 0.5081 - accuracy: 0.6951 - val_loss: 0.5204 - val_accuracy: 0.6484\n",
      "Epoch 8/10\n",
      "2/2 [==============================] - 0s 22ms/step - loss: 0.4815 - accuracy: 0.7390 - val_loss: 0.4975 - val_accuracy: 0.7033\n",
      "Epoch 9/10\n",
      "2/2 [==============================] - 0s 22ms/step - loss: 0.4578 - accuracy: 0.7802 - val_loss: 0.4761 - val_accuracy: 0.7582\n",
      "Epoch 10/10\n",
      "2/2 [==============================] - 0s 29ms/step - loss: 0.4348 - accuracy: 0.7995 - val_loss: 0.4558 - val_accuracy: 0.7912\n"
     ]
    },
    {
     "data": {
      "text/plain": [
       "<tensorflow.python.keras.callbacks.History at 0x7ff2130b8550>"
      ]
     },
     "execution_count": 43,
     "metadata": {},
     "output_type": "execute_result"
    }
   ],
   "source": [
    "model.fit(X_train, Y_train, epochs=10, batch_size=250, verbose=1, validation_split=0.2)"
   ]
  },
  {
   "cell_type": "markdown",
   "metadata": {},
   "source": [
    "## Evaluate the model with test data"
   ]
  },
  {
   "cell_type": "code",
   "execution_count": 44,
   "metadata": {},
   "outputs": [
    {
     "name": "stdout",
     "output_type": "stream",
     "text": [
      "4/4 [==============================] - 0s 1ms/step - loss: 0.4666 - accuracy: 0.7982\n",
      "Test results - Loss: 0.4665887951850891 - Accuracy: 0.7982456088066101%\n"
     ]
    }
   ],
   "source": [
    "# Test the model after training\n",
    "test_restul = model.evaluate(X_test, Y_test, verbose=1)\n",
    "print(f'Test results - Loss: {test_restul[0]} - Accuracy: {test_restul[1]}%')"
   ]
  },
  {
   "cell_type": "markdown",
   "metadata": {},
   "source": [
    "## Hmmmm, can we play with other MLP architectures to improve the performance?"
   ]
  },
  {
   "cell_type": "code",
   "execution_count": 53,
   "metadata": {},
   "outputs": [
    {
     "name": "stdout",
     "output_type": "stream",
     "text": [
      "Train results - Loss: 0.5134559273719788 - Accuracy: 0.9210526347160339%\n",
      "Test results - Loss: 0.3195848762989044 - Accuracy: 0.9298245906829834%\n"
     ]
    }
   ],
   "source": [
    "# Figure out data dimensions\n",
    "num_features = X_train.shape[1]\n",
    "num_classes = len(class_names)\n",
    "\n",
    "# Create the model\n",
    "model = Sequential()\n",
    "model.add(Dense(30, input_shape=(num_features,), activation='relu'))\n",
    "model.add(Dense(50, activation='relu'))\n",
    "model.add(Dense(30, activation='relu'))\n",
    "model.add(Dense(num_classes, activation='sigmoid'))\n",
    "\n",
    "# Configure the model and start training\n",
    "model.compile(loss='binary_crossentropy', optimizer='adam', metrics=['accuracy'])\n",
    "\n",
    "model.fit(X_train, Y_train, epochs=10, batch_size=250, verbose=0, validation_split=0.2)\n",
    "\n",
    "# Test the model after training\n",
    "train_restul = model.evaluate(X_train, Y_train, verbose=0)\n",
    "print(f'Train results - Loss: {train_restul[0]} - Accuracy: {train_restul[1]}%')\n",
    "\n",
    "# Test the model after training\n",
    "test_restul = model.evaluate(X_test, Y_test, verbose=0)\n",
    "print(f'Test results - Loss: {test_restul[0]} - Accuracy: {test_restul[1]}%')"
   ]
  },
  {
   "cell_type": "code",
   "execution_count": null,
   "metadata": {},
   "outputs": [],
   "source": []
  },
  {
   "cell_type": "code",
   "execution_count": null,
   "metadata": {},
   "outputs": [],
   "source": []
  },
  {
   "cell_type": "code",
   "execution_count": null,
   "metadata": {},
   "outputs": [],
   "source": []
  },
  {
   "cell_type": "code",
   "execution_count": null,
   "metadata": {},
   "outputs": [],
   "source": []
  },
  {
   "cell_type": "code",
   "execution_count": null,
   "metadata": {},
   "outputs": [],
   "source": []
  },
  {
   "cell_type": "code",
   "execution_count": null,
   "metadata": {},
   "outputs": [],
   "source": []
  },
  {
   "cell_type": "code",
   "execution_count": null,
   "metadata": {},
   "outputs": [],
   "source": []
  }
 ],
 "metadata": {
  "kernelspec": {
   "display_name": "Python 3",
   "language": "python",
   "name": "python3"
  },
  "language_info": {
   "codemirror_mode": {
    "name": "ipython",
    "version": 3
   },
   "file_extension": ".py",
   "mimetype": "text/x-python",
   "name": "python",
   "nbconvert_exporter": "python",
   "pygments_lexer": "ipython3",
   "version": "3.8.3"
  }
 },
 "nbformat": 4,
 "nbformat_minor": 4
}

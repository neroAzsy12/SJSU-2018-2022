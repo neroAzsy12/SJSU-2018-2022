{
 "cells": [
  {
   "cell_type": "code",
   "execution_count": 21,
   "metadata": {},
   "outputs": [],
   "source": [
    "import Ciphers\n",
    "import numpy as np\n",
    "import random"
   ]
  },
  {
   "cell_type": "code",
   "execution_count": 22,
   "metadata": {},
   "outputs": [],
   "source": [
    "np.random.seed(42)"
   ]
  },
  {
   "cell_type": "markdown",
   "metadata": {},
   "source": [
    "# Experiment #2\n",
    "## Encrypt the First 100,000 characters of BrownCorpus.txt"
   ]
  },
  {
   "cell_type": "code",
   "execution_count": 23,
   "metadata": {},
   "outputs": [],
   "source": [
    "Simple = Ciphers.SimpleSubstitution(\"phqgiumeaylnofdxjkrcvstzwb\")\n",
    "Columnar = Ciphers.ColumnarTransposition(\"strawberry\", 'x')\n",
    "Vigenere = Ciphers.Vigenere(\"kryptos\")\n",
    "PlayFair = Ciphers.PlayFair(\"piggerino\")\n",
    "FourSquare = Ciphers.FourSquare(\"zgptfoihmuwdrcnykeqaxvsbl\", \"mfnbdcrhsaxyogvituewlqzkp\")"
   ]
  },
  {
   "cell_type": "code",
   "execution_count": 24,
   "metadata": {},
   "outputs": [],
   "source": [
    "def getCharacters(filename):\n",
    "    text = ''\n",
    "    with open(filename, 'r') as file:\n",
    "        lines = file.read().splitlines()\n",
    "        \n",
    "        for line in lines:\n",
    "            text += line\n",
    "            \n",
    "            if len(text) >= 100000:\n",
    "                break\n",
    "                \n",
    "        print(len(lines))\n",
    "    \n",
    "    return text"
   ]
  },
  {
   "cell_type": "code",
   "execution_count": 25,
   "metadata": {},
   "outputs": [
    {
     "name": "stdout",
     "output_type": "stream",
     "text": [
      "1000\n"
     ]
    }
   ],
   "source": [
    "filename = 'Dataset/BrownCorpus.txt'\n",
    "plainText = getCharacters(filename)"
   ]
  },
  {
   "cell_type": "markdown",
   "metadata": {},
   "source": [
    "## Encrypt the characters with ciphers"
   ]
  },
  {
   "cell_type": "code",
   "execution_count": 26,
   "metadata": {},
   "outputs": [],
   "source": [
    "simpleEncrypt = Simple.encrypt(plainText)\n",
    "columnarEncrypt = Columnar.encrypt(plainText)\n",
    "vigenereEncrypt = Vigenere.encrypt(plainText)\n",
    "playfairEncrypt = PlayFair.encrypt(plainText)\n",
    "foursquareEncrypt = FourSquare.encrypt(plainText)"
   ]
  },
  {
   "cell_type": "code",
   "execution_count": 27,
   "metadata": {},
   "outputs": [
    {
     "name": "stdout",
     "output_type": "stream",
     "text": [
      "thefultoncountygrandjurysaidfriday\n",
      "ceiuvncdfqdvfcwmkpfgyvkwrpagukagpw\n",
      "ftyyglnlddnrpraneettdaleantantntee\n",
      "dycunzlyeadnblixppgrbeiwhtwvpigstm\n",
      "skikzuqboncqbmxegcdmrqezxhpflipfbx\n",
      "eszayvqgrnnecuvsyfcnueqqynmbiimbtl\n"
     ]
    }
   ],
   "source": [
    "print(plainText[:34])\n",
    "print(simpleEncrypt[:34])\n",
    "print(columnarEncrypt[:34])\n",
    "print(vigenereEncrypt[:34])\n",
    "print(playfairEncrypt[:34])\n",
    "print(foursquareEncrypt[:34])"
   ]
  },
  {
   "cell_type": "code",
   "execution_count": 28,
   "metadata": {},
   "outputs": [],
   "source": [
    "def saveFile(fileDestination, text, generate):\n",
    "    if generate == False:\n",
    "        print(\"Training file has been generated before...\")\n",
    "        return \n",
    "    saveFile = open(fileDestination, 'w')\n",
    "    \n",
    "    for i in range(0, len(text), 1000):\n",
    "        saveFile.write(text[i : i + 1000] + '\\n')\n",
    "    \n",
    "    saveFile.close()"
   ]
  },
  {
   "cell_type": "code",
   "execution_count": 29,
   "metadata": {},
   "outputs": [
    {
     "name": "stdout",
     "output_type": "stream",
     "text": [
      "Training file has been generated before...\n",
      "Training file has been generated before...\n",
      "Training file has been generated before...\n",
      "Training file has been generated before...\n",
      "Training file has been generated before...\n",
      "Training file has been generated before...\n"
     ]
    }
   ],
   "source": [
    "saveFile('Dataset/Experiment2/PlainText.txt', plainText, False)\n",
    "saveFile('Dataset/Experiment2/SimpleSub.txt', simpleEncrypt, False)\n",
    "saveFile('Dataset/Experiment2/ColumnarTrans.txt', columnarEncrypt, False)\n",
    "saveFile('Dataset/Experiment2/Vigenere.txt', vigenereEncrypt, False)\n",
    "saveFile('Dataset/Experiment2/PlayFair.txt', playfairEncrypt, False)\n",
    "saveFile('Dataset/Experiment2/FourSquare.txt', foursquareEncrypt, False)"
   ]
  },
  {
   "cell_type": "markdown",
   "metadata": {},
   "source": [
    "## Create samples"
   ]
  },
  {
   "cell_type": "code",
   "execution_count": 30,
   "metadata": {},
   "outputs": [],
   "source": [
    "# sample size (100, 200, 300, 400, 500, 600, 700, 800, 900, 1000)\n",
    "# generate random number from the range of 0 to (1,000,000 - len(sample size))\n",
    "# np.random.randint(min, max + 1)\n",
    "def generateTextSamples(filename, savefile, cipher, generate):\n",
    "    if generate == False:\n",
    "        print('Data Already Generated')\n",
    "        return\n",
    "    \n",
    "    sample_sizes = [100, 200, 300, 400, 500, 600, 700, 800, 900, 1000]\n",
    "    \n",
    "    text = ''\n",
    "    with open(filename, 'r') as file:\n",
    "        lines = file.read().splitlines()\n",
    "        \n",
    "        for line in lines:\n",
    "            text += line\n",
    "    \n",
    "    save = open(savefile, 'w')\n",
    "    for size in sample_sizes:\n",
    "        for i in range(400):\n",
    "            index = np.random.randint(0, 1000001 - size)\n",
    "            #print(len(text[index:(index + size)]))\n",
    "            save.write(cipher.encrypt(text[index : (index + size)]) + '\\n')\n",
    "            \n",
    "    save.close()"
   ]
  },
  {
   "cell_type": "code",
   "execution_count": 32,
   "metadata": {},
   "outputs": [
    {
     "name": "stdout",
     "output_type": "stream",
     "text": [
      "Data Already Generated\n",
      "Data Already Generated\n",
      "Data Already Generated\n",
      "Data Already Generated\n",
      "Data Already Generated\n"
     ]
    }
   ],
   "source": [
    "generateTextSamples(filename, 'Dataset/Experiment2/SimpleSubSamples.txt', Simple, False)       # Change to true if you want to create new samples\n",
    "generateTextSamples(filename, 'Dataset/Experiment2/ColumnarTransSamples.txt', Columnar, False) # Change to true if you want to create new samples\n",
    "generateTextSamples(filename, 'Dataset/Experiment2/VigenereSamples.txt', Vigenere, False) # Change to true if you want to create new samples\n",
    "generateTextSamples(filename, 'Dataset/Experiment2/PlayFairSamples.txt', PlayFair, False)\n",
    "generateTextSamples(filename, 'Dataset/Experiment2/FourSquareSamples.txt', FourSquare, False)"
   ]
  },
  {
   "cell_type": "markdown",
   "metadata": {},
   "source": [
    "# Experiment #1"
   ]
  },
  {
   "cell_type": "code",
   "execution_count": 33,
   "metadata": {},
   "outputs": [],
   "source": [
    "# function generator that generates permutations for Simple Sub\n",
    "def generateSimpleSubKeys(numOfKeys):\n",
    "    alphabet = 'abcdefghijklmnopqrstuvwxyz'\n",
    "    keys = []\n",
    "    \n",
    "    while len(keys) < numOfKeys:\n",
    "        key = ''.join(random.sample(alphabet, len(alphabet)))\n",
    "        \n",
    "        if key not in keys:\n",
    "            keys.append(key)\n",
    "    \n",
    "    return keys"
   ]
  },
  {
   "cell_type": "code",
   "execution_count": 34,
   "metadata": {},
   "outputs": [],
   "source": [
    "def generatePlayFairKeys(numOfKeys):\n",
    "    alphabet = 'abcdefghiklmnopqrstuvwxyz'\n",
    "    keys = []\n",
    "    \n",
    "    while len(keys) < numOfKeys:\n",
    "        key = ''.join(random.sample(alphabet, len(alphabet)))\n",
    "        \n",
    "        if key not in keys:\n",
    "            keys.append(key)\n",
    "    \n",
    "    return keys"
   ]
  },
  {
   "cell_type": "code",
   "execution_count": 35,
   "metadata": {},
   "outputs": [],
   "source": [
    "def getCipherKeys():\n",
    "    keys = []\n",
    "    \n",
    "    with open('Dataset/Experiment1/keys.txt', 'r') as file:\n",
    "        lines = file.read().splitlines()\n",
    "        \n",
    "        for line in lines:\n",
    "            keys.append(line)\n",
    "    \n",
    "    return keys"
   ]
  },
  {
   "cell_type": "code",
   "execution_count": 36,
   "metadata": {},
   "outputs": [],
   "source": [
    "def generateFourSquareKeys(numOfKeys):\n",
    "    alphabet = 'abcdefghiklmnopqrstuvwxyz'\n",
    "    keys = []\n",
    "    \n",
    "    while len(keys) < numOfKeys:\n",
    "        key = [''.join(random.sample(alphabet, len(alphabet))), ''.join(random.sample(alphabet, len(alphabet)))]\n",
    "        \n",
    "        if key not in keys:\n",
    "            keys.append(key)\n",
    "    \n",
    "    return keys    "
   ]
  },
  {
   "cell_type": "code",
   "execution_count": 37,
   "metadata": {},
   "outputs": [],
   "source": [
    "def genSamples(cipherNum, keys, plainText, filesave, generate):\n",
    "    if generate == False:\n",
    "        print('Data Already Generated')\n",
    "        return\n",
    "    \n",
    "    if cipherNum > 4:\n",
    "        print('Invalid Cipher Num')\n",
    "        return \n",
    "    \n",
    "    save = open(filesave, 'w')\n",
    "    \n",
    "    for key in keys:\n",
    "        cipherText = ''\n",
    "        \n",
    "        if cipherNum == 0:\n",
    "            cipherText = Ciphers.SimpleSubstitution(key).encrypt(plainText)\n",
    "            \n",
    "        elif cipherNum == 1:\n",
    "            cipherText = Ciphers.ColumnarTransposition(key, 'x').encrypt(plainText)\n",
    "            \n",
    "        elif cipherNum == 2:\n",
    "            cipherText = Ciphers.Vigenere(key).encrypt(plainText)\n",
    "        \n",
    "        elif cipherNum == 3:\n",
    "            cipherText = Ciphers.PlayFair(key).encrypt(plainText)\n",
    "        \n",
    "        else:\n",
    "            cipherText = Ciphers.FourSquare(key[0], key[1]).encrypt(plainText)\n",
    "            key = key[0] + ' ' + key[1]\n",
    "            \n",
    "        save.write(key + \", \" + cipherText + '\\n')\n",
    "        \n",
    "    save.close()"
   ]
  },
  {
   "cell_type": "code",
   "execution_count": 38,
   "metadata": {},
   "outputs": [],
   "source": [
    "plainText2 = plainText[:1000]\n",
    "simpleSubKeys = generateSimpleSubKeys(1000)\n",
    "cipherKeys = getCipherKeys()\n",
    "playFairKeys = generatePlayFairKeys(1000)\n",
    "fourSquareKeys = generateFourSquareKeys(1000)"
   ]
  },
  {
   "cell_type": "code",
   "execution_count": 39,
   "metadata": {},
   "outputs": [
    {
     "name": "stdout",
     "output_type": "stream",
     "text": [
      "Data Already Generated\n",
      "Data Already Generated\n",
      "Data Already Generated\n",
      "Data Already Generated\n",
      "Data Already Generated\n"
     ]
    }
   ],
   "source": [
    "genSamples(0, simpleSubKeys, plainText2, 'Dataset/Experiment1/SimpleSubSamples.txt', False)\n",
    "genSamples(1, cipherKeys, plainText2, 'Dataset/Experiment1/ColumnarTransSamples.txt', False)\n",
    "genSamples(2, cipherKeys, plainText2, 'Dataset/Experiment1/VigenereSamples.txt', False)\n",
    "genSamples(3, playFairKeys, plainText2, 'Dataset/Experiment1/PlayFairSamples.txt', False)\n",
    "genSamples(4, fourSquareKeys, plainText2, 'Dataset/Experiment1/FourSquareSamples.txt', False)"
   ]
  },
  {
   "cell_type": "code",
   "execution_count": null,
   "metadata": {},
   "outputs": [],
   "source": []
  }
 ],
 "metadata": {
  "kernelspec": {
   "display_name": "Python 3",
   "language": "python",
   "name": "python3"
  },
  "language_info": {
   "codemirror_mode": {
    "name": "ipython",
    "version": 3
   },
   "file_extension": ".py",
   "mimetype": "text/x-python",
   "name": "python",
   "nbconvert_exporter": "python",
   "pygments_lexer": "ipython3",
   "version": "3.8.5"
  }
 },
 "nbformat": 4,
 "nbformat_minor": 4
}

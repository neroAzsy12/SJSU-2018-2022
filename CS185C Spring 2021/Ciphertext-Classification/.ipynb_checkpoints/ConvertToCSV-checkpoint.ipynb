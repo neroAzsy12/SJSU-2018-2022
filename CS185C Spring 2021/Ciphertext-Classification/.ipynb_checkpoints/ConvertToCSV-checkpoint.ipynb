{
 "cells": [
  {
   "cell_type": "code",
   "execution_count": 2,
   "metadata": {},
   "outputs": [],
   "source": [
    "import pandas as pd"
   ]
  },
  {
   "cell_type": "code",
   "execution_count": 3,
   "metadata": {},
   "outputs": [],
   "source": [
    "def getData(files_lst):\n",
    "    dataset = []\n",
    "    \n",
    "    for files in files_lst:\n",
    "        with open(files, 'r') as file:\n",
    "            lines = file.read().splitlines()\n",
    "            \n",
    "            for line in lines:\n",
    "                data = line.split(', ')\n",
    "                \n",
    "                dataset.append(data)\n",
    "    \n",
    "    return dataset"
   ]
  },
  {
   "cell_type": "markdown",
   "metadata": {},
   "source": [
    "# Creating Experiment #1 CSV Dataset File"
   ]
  },
  {
   "cell_type": "code",
   "execution_count": 4,
   "metadata": {},
   "outputs": [
    {
     "name": "stdout",
     "output_type": "stream",
     "text": [
      "5000\n"
     ]
    }
   ],
   "source": [
    "files1 = ['Dataset/Experiment1/SimpleSubResults.txt', 'Dataset/Experiment1/ColumnarTransResults.txt', 'Dataset/Experiment1/VigenereResults.txt', 'Dataset/Experiment1/PlayFairResults.txt', 'Dataset/Experiment1/FourSquareResults.txt']\n",
    "dataset1 = getData(files1)\n",
    "\n",
    "print(len(dataset1))"
   ]
  },
  {
   "cell_type": "code",
   "execution_count": 5,
   "metadata": {},
   "outputs": [
    {
     "data": {
      "text/html": [
       "<div>\n",
       "<style scoped>\n",
       "    .dataframe tbody tr th:only-of-type {\n",
       "        vertical-align: middle;\n",
       "    }\n",
       "\n",
       "    .dataframe tbody tr th {\n",
       "        vertical-align: top;\n",
       "    }\n",
       "\n",
       "    .dataframe thead th {\n",
       "        text-align: right;\n",
       "    }\n",
       "</style>\n",
       "<table border=\"1\" class=\"dataframe\">\n",
       "  <thead>\n",
       "    <tr style=\"text-align: right;\">\n",
       "      <th></th>\n",
       "      <th>Key</th>\n",
       "      <th>Cipher Text</th>\n",
       "      <th>I.C</th>\n",
       "      <th>Entropy</th>\n",
       "      <th>Chi-Squared</th>\n",
       "      <th>English HMM Score</th>\n",
       "      <th>Label</th>\n",
       "    </tr>\n",
       "  </thead>\n",
       "  <tbody>\n",
       "    <tr>\n",
       "      <th>0</th>\n",
       "      <td>owcnyfltbxiumzkjeqarvdghsp</td>\n",
       "      <td>rtyfvurkzckvzrslqoznxvqsaobnfqbnosozbzdyarblor...</td>\n",
       "      <td>0.06524324324324324</td>\n",
       "      <td>4.170783739299369</td>\n",
       "      <td>14007.633040390589</td>\n",
       "      <td>-1.8429870234763337</td>\n",
       "      <td>0</td>\n",
       "    </tr>\n",
       "    <tr>\n",
       "      <th>1</th>\n",
       "      <td>zubwflpjiankvhrgecqostdymx</td>\n",
       "      <td>ojflskorhbrshompczhwascmqziwlciwzmzhihtfqoipzo...</td>\n",
       "      <td>0.06524324324324324</td>\n",
       "      <td>4.1707837392993685</td>\n",
       "      <td>12903.394793019415</td>\n",
       "      <td>-1.8075002237704694</td>\n",
       "      <td>0</td>\n",
       "    </tr>\n",
       "    <tr>\n",
       "      <th>2</th>\n",
       "      <td>qwfhrcgxtjolvibzsdunpkemya</td>\n",
       "      <td>nxrcplnbifbpinygdqihjpdyuqthcdthqyqitikruntgqn...</td>\n",
       "      <td>0.06524324324324324</td>\n",
       "      <td>4.170783739299369</td>\n",
       "      <td>9101.369985263427</td>\n",
       "      <td>-1.727090043973577</td>\n",
       "      <td>0</td>\n",
       "    </tr>\n",
       "    <tr>\n",
       "      <th>3</th>\n",
       "      <td>hopgnlejzatsxkvrqdwbymuifc</td>\n",
       "      <td>bjnlysbvkpvykbfedhkgaydfwhzgldzghfhkzkmnwbzehb...</td>\n",
       "      <td>0.06524324324324324</td>\n",
       "      <td>4.1707837392993685</td>\n",
       "      <td>10537.984371211389</td>\n",
       "      <td>-1.8841827382875465</td>\n",
       "      <td>0</td>\n",
       "    </tr>\n",
       "    <tr>\n",
       "      <th>4</th>\n",
       "      <td>fpsctnxdwoybqhivujmrglzeka</td>\n",
       "      <td>rdtngbrihsighrkxjfhcogjkmfwcnjwcfkfhwhltmrwxfr...</td>\n",
       "      <td>0.06524324324324324</td>\n",
       "      <td>4.170783739299369</td>\n",
       "      <td>5134.394047217159</td>\n",
       "      <td>-1.6865521173414597</td>\n",
       "      <td>0</td>\n",
       "    </tr>\n",
       "  </tbody>\n",
       "</table>\n",
       "</div>"
      ],
      "text/plain": [
       "                          Key  \\\n",
       "0  owcnyfltbxiumzkjeqarvdghsp   \n",
       "1  zubwflpjiankvhrgecqostdymx   \n",
       "2  qwfhrcgxtjolvibzsdunpkemya   \n",
       "3  hopgnlejzatsxkvrqdwbymuifc   \n",
       "4  fpsctnxdwoybqhivujmrglzeka   \n",
       "\n",
       "                                         Cipher Text                  I.C  \\\n",
       "0  rtyfvurkzckvzrslqoznxvqsaobnfqbnosozbzdyarblor...  0.06524324324324324   \n",
       "1  ojflskorhbrshompczhwascmqziwlciwzmzhihtfqoipzo...  0.06524324324324324   \n",
       "2  nxrcplnbifbpinygdqihjpdyuqthcdthqyqitikruntgqn...  0.06524324324324324   \n",
       "3  bjnlysbvkpvykbfedhkgaydfwhzgldzghfhkzkmnwbzehb...  0.06524324324324324   \n",
       "4  rdtngbrihsighrkxjfhcogjkmfwcnjwcfkfhwhltmrwxfr...  0.06524324324324324   \n",
       "\n",
       "              Entropy         Chi-Squared    English HMM Score Label  \n",
       "0   4.170783739299369  14007.633040390589  -1.8429870234763337     0  \n",
       "1  4.1707837392993685  12903.394793019415  -1.8075002237704694     0  \n",
       "2   4.170783739299369   9101.369985263427   -1.727090043973577     0  \n",
       "3  4.1707837392993685  10537.984371211389  -1.8841827382875465     0  \n",
       "4   4.170783739299369   5134.394047217159  -1.6865521173414597     0  "
      ]
     },
     "execution_count": 5,
     "metadata": {},
     "output_type": "execute_result"
    }
   ],
   "source": [
    "exper1_df = pd.DataFrame(dataset1, columns = ['Key', 'Cipher Text', 'I.C', 'Entropy', 'Chi-Squared', 'English HMM Score', 'Label'])\n",
    "exper1_df.head()"
   ]
  },
  {
   "cell_type": "code",
   "execution_count": 6,
   "metadata": {},
   "outputs": [],
   "source": [
    "exper1_df.to_csv('Dataset/Experiment1/Experiment 1 Dataset.csv')"
   ]
  },
  {
   "cell_type": "markdown",
   "metadata": {},
   "source": [
    "# Creating Experiment #2 CSV Dataset File"
   ]
  },
  {
   "cell_type": "code",
   "execution_count": 7,
   "metadata": {},
   "outputs": [
    {
     "name": "stdout",
     "output_type": "stream",
     "text": [
      "20000\n"
     ]
    }
   ],
   "source": [
    "files2 = ['Dataset/Experiment2/SimpleSubResults.txt', 'Dataset/Experiment2/ColumnarTransResults.txt', 'Dataset/Experiment2/VigenereResults.txt', 'Dataset/Experiment2/PlayFairResults.txt', 'Dataset/Experiment2/FourSquareResults.txt']\n",
    "dataset2 = getData(files2)\n",
    "\n",
    "print(len(dataset2))"
   ]
  },
  {
   "cell_type": "code",
   "execution_count": 8,
   "metadata": {},
   "outputs": [
    {
     "data": {
      "text/html": [
       "<div>\n",
       "<style scoped>\n",
       "    .dataframe tbody tr th:only-of-type {\n",
       "        vertical-align: middle;\n",
       "    }\n",
       "\n",
       "    .dataframe tbody tr th {\n",
       "        vertical-align: top;\n",
       "    }\n",
       "\n",
       "    .dataframe thead th {\n",
       "        text-align: right;\n",
       "    }\n",
       "</style>\n",
       "<table border=\"1\" class=\"dataframe\">\n",
       "  <thead>\n",
       "    <tr style=\"text-align: right;\">\n",
       "      <th></th>\n",
       "      <th>Key</th>\n",
       "      <th>Cipher Text</th>\n",
       "      <th>I.C</th>\n",
       "      <th>Entropy</th>\n",
       "      <th>Chi-Squared</th>\n",
       "      <th>English HMM Score</th>\n",
       "      <th>Cipher HMM Score</th>\n",
       "      <th>Label</th>\n",
       "    </tr>\n",
       "  </thead>\n",
       "  <tbody>\n",
       "    <tr>\n",
       "      <th>0</th>\n",
       "      <td>phqgiumeaylnofdxjkrcvstzwb</td>\n",
       "      <td>liwopfcniceararpfarrviteaqehdanrgdtfcdpopccikd...</td>\n",
       "      <td>0.06585858585858585</td>\n",
       "      <td>3.9990282295977617</td>\n",
       "      <td>220.47438325010594</td>\n",
       "      <td>-1.554382406226999</td>\n",
       "      <td>-1.2031927081813374</td>\n",
       "      <td>0</td>\n",
       "    </tr>\n",
       "    <tr>\n",
       "      <th>1</th>\n",
       "      <td>phqgiumeaylnofdxjkrcvstzwb</td>\n",
       "      <td>qcasipfpnwrarduceifitifmnarehahniaqikcpafnwedx...</td>\n",
       "      <td>0.06888888888888889</td>\n",
       "      <td>3.9464974117540956</td>\n",
       "      <td>165.3821160881472</td>\n",
       "      <td>-1.4853964868762721</td>\n",
       "      <td>-1.2168937969514821</td>\n",
       "      <td>0</td>\n",
       "    </tr>\n",
       "    <tr>\n",
       "      <th>2</th>\n",
       "      <td>phqgiumeaylnofdxjkrcvstzwb</td>\n",
       "      <td>wceiiziqvcasiriqkicpkwduceimdnuprrdqapcadfydif...</td>\n",
       "      <td>0.0597979797979798</td>\n",
       "      <td>4.138948536732462</td>\n",
       "      <td>287.42329852188357</td>\n",
       "      <td>-1.5855915252990045</td>\n",
       "      <td>-1.2257382356429438</td>\n",
       "      <td>0</td>\n",
       "    </tr>\n",
       "    <tr>\n",
       "      <th>3</th>\n",
       "      <td>phqgiumeaylnofdxjkrcvstzwb</td>\n",
       "      <td>dfpnpakxdkcceicekiixpwpodfceudkudvkkddorlacqei...</td>\n",
       "      <td>0.07272727272727272</td>\n",
       "      <td>3.9299326297208967</td>\n",
       "      <td>304.2764791630036</td>\n",
       "      <td>-1.5399801849972399</td>\n",
       "      <td>-1.2421516754752933</td>\n",
       "      <td>0</td>\n",
       "    </tr>\n",
       "    <tr>\n",
       "      <th>4</th>\n",
       "      <td>phqgiumeaylnofdxjkrcvstzwb</td>\n",
       "      <td>kokliinikkixdkcrckpqcdkxkdgvqcadfpcoprriwuikmv...</td>\n",
       "      <td>0.06686868686868687</td>\n",
       "      <td>3.9650095657003255</td>\n",
       "      <td>352.2856537981984</td>\n",
       "      <td>-1.644785188517928</td>\n",
       "      <td>-1.377248225105093</td>\n",
       "      <td>0</td>\n",
       "    </tr>\n",
       "  </tbody>\n",
       "</table>\n",
       "</div>"
      ],
      "text/plain": [
       "                          Key  \\\n",
       "0  phqgiumeaylnofdxjkrcvstzwb   \n",
       "1  phqgiumeaylnofdxjkrcvstzwb   \n",
       "2  phqgiumeaylnofdxjkrcvstzwb   \n",
       "3  phqgiumeaylnofdxjkrcvstzwb   \n",
       "4  phqgiumeaylnofdxjkrcvstzwb   \n",
       "\n",
       "                                         Cipher Text                  I.C  \\\n",
       "0  liwopfcniceararpfarrviteaqehdanrgdtfcdpopccikd...  0.06585858585858585   \n",
       "1  qcasipfpnwrarduceifitifmnarehahniaqikcpafnwedx...  0.06888888888888889   \n",
       "2  wceiiziqvcasiriqkicpkwduceimdnuprrdqapcadfydif...   0.0597979797979798   \n",
       "3  dfpnpakxdkcceicekiixpwpodfceudkudvkkddorlacqei...  0.07272727272727272   \n",
       "4  kokliinikkixdkcrckpqcdkxkdgvqcadfpcoprriwuikmv...  0.06686868686868687   \n",
       "\n",
       "              Entropy         Chi-Squared    English HMM Score  \\\n",
       "0  3.9990282295977617  220.47438325010594   -1.554382406226999   \n",
       "1  3.9464974117540956   165.3821160881472  -1.4853964868762721   \n",
       "2   4.138948536732462  287.42329852188357  -1.5855915252990045   \n",
       "3  3.9299326297208967   304.2764791630036  -1.5399801849972399   \n",
       "4  3.9650095657003255   352.2856537981984   -1.644785188517928   \n",
       "\n",
       "      Cipher HMM Score Label  \n",
       "0  -1.2031927081813374     0  \n",
       "1  -1.2168937969514821     0  \n",
       "2  -1.2257382356429438     0  \n",
       "3  -1.2421516754752933     0  \n",
       "4   -1.377248225105093     0  "
      ]
     },
     "execution_count": 8,
     "metadata": {},
     "output_type": "execute_result"
    }
   ],
   "source": [
    "exper2_df = pd.DataFrame(dataset2, columns = ['Key', 'Cipher Text', 'I.C', 'Entropy', 'Chi-Squared', 'English HMM Score', 'Cipher HMM Score', 'Label'])\n",
    "\n",
    "exper2_df.head()"
   ]
  },
  {
   "cell_type": "code",
   "execution_count": 9,
   "metadata": {},
   "outputs": [],
   "source": [
    "exper2_df.to_csv('Dataset/Experiment2/Experiment 2 Dataset.csv')"
   ]
  },
  {
   "cell_type": "code",
   "execution_count": null,
   "metadata": {},
   "outputs": [],
   "source": []
  }
 ],
 "metadata": {
  "kernelspec": {
   "display_name": "Python 3",
   "language": "python",
   "name": "python3"
  },
  "language_info": {
   "codemirror_mode": {
    "name": "ipython",
    "version": 3
   },
   "file_extension": ".py",
   "mimetype": "text/x-python",
   "name": "python",
   "nbconvert_exporter": "python",
   "pygments_lexer": "ipython3",
   "version": "3.8.5"
  }
 },
 "nbformat": 4,
 "nbformat_minor": 4
}

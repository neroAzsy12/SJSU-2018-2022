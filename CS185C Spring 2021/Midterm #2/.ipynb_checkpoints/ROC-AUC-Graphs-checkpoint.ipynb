{
 "cells": [
  {
   "cell_type": "code",
   "execution_count": 45,
   "metadata": {},
   "outputs": [],
   "source": [
    "import os\n",
    "import numpy as np\n",
    "from sklearn.metrics import roc_auc_score\n",
    "from sklearn import metrics"
   ]
  },
  {
   "cell_type": "markdown",
   "metadata": {},
   "source": [
    "# Test 1 and 2 winwebsec vs zbot"
   ]
  },
  {
   "cell_type": "markdown",
   "metadata": {},
   "source": [
    "## winwebsec HMM"
   ]
  },
  {
   "cell_type": "code",
   "execution_count": 46,
   "metadata": {},
   "outputs": [],
   "source": [
    "wz_labels = []\n",
    "wz_scores = []"
   ]
  },
  {
   "cell_type": "code",
   "execution_count": 47,
   "metadata": {},
   "outputs": [
    {
     "name": "stdout",
     "output_type": "stream",
     "text": [
      "1300\n",
      "1300\n"
     ]
    }
   ],
   "source": [
    "wz = open('HMM Scores/winwebsecHMM_winwebsec vs zbot.txt', 'r')\n",
    "lines = wz.read().splitlines()\n",
    "\n",
    "for line in lines:\n",
    "    s = line.split(',')\n",
    "    wz_labels.append(s[0])\n",
    "    wz_scores.append(float(s[1]) * -1)\n",
    "    \n",
    "wz.close()\n",
    "\n",
    "print(len(wz_labels))\n",
    "print(len(wz_scores))"
   ]
  },
  {
   "cell_type": "code",
   "execution_count": 48,
   "metadata": {},
   "outputs": [
    {
     "data": {
      "text/plain": [
       "0.6317574809225757"
      ]
     },
     "execution_count": 48,
     "metadata": {},
     "output_type": "execute_result"
    }
   ],
   "source": [
    "roc_auc_score(wz_labels, wz_scores)"
   ]
  },
  {
   "cell_type": "markdown",
   "metadata": {},
   "source": [
    "## zbot HMM"
   ]
  },
  {
   "cell_type": "code",
   "execution_count": 18,
   "metadata": {},
   "outputs": [],
   "source": [
    "zw_labels = []\n",
    "zw_scores = []"
   ]
  },
  {
   "cell_type": "code",
   "execution_count": 19,
   "metadata": {},
   "outputs": [
    {
     "name": "stdout",
     "output_type": "stream",
     "text": [
      "1133\n",
      "1133\n"
     ]
    }
   ],
   "source": [
    "zw = open('HMM Scores/zbotHMM_zbot vs winwebsec.txt', 'r')\n",
    "lines = wzz.read().splitlines()\n",
    "\n",
    "for line in lines:\n",
    "    s = line.split(',')\n",
    "    zw_labels.append(s[0])\n",
    "    zw_scores.append(float(s[1]) * -1)\n",
    "    \n",
    "zw.close()\n",
    "\n",
    "print(len(zw_labels))\n",
    "print(len(zw_scores))"
   ]
  },
  {
   "cell_type": "code",
   "execution_count": 20,
   "metadata": {},
   "outputs": [
    {
     "data": {
      "text/plain": [
       "0.6478742662307989"
      ]
     },
     "execution_count": 20,
     "metadata": {},
     "output_type": "execute_result"
    }
   ],
   "source": [
    "roc_auc_score(zw_labels, zw_scores)"
   ]
  },
  {
   "cell_type": "markdown",
   "metadata": {},
   "source": [
    "# Test 3 and 4, winwebsec vs zeroaccess"
   ]
  },
  {
   "cell_type": "markdown",
   "metadata": {},
   "source": [
    "# winwebsec HMM"
   ]
  },
  {
   "cell_type": "code",
   "execution_count": null,
   "metadata": {},
   "outputs": [],
   "source": [
    "wz_labels = []\n",
    "wz_scores = []"
   ]
  },
  {
   "cell_type": "code",
   "execution_count": null,
   "metadata": {},
   "outputs": [],
   "source": [
    "wz = open('HMM Scores/winwebsecHMM_winwebsec vs zeroaccess.txt', 'r')\n",
    "lines = wz.read().splitlines()\n",
    "\n",
    "for line in lines:\n",
    "    s = line.split(',')\n",
    "    wz_labels.append(s[0])\n",
    "    wz_scores.append(float(s[1]) * -1)\n",
    "    \n",
    "wz.close()\n",
    "\n",
    "print(len(wz_labels))\n",
    "print(len(wz_scores))"
   ]
  },
  {
   "cell_type": "code",
   "execution_count": null,
   "metadata": {},
   "outputs": [],
   "source": [
    "roc_auc_score(wz_labels, wz_scores)"
   ]
  },
  {
   "cell_type": "markdown",
   "metadata": {},
   "source": [
    "# zeroaccess HMM"
   ]
  },
  {
   "cell_type": "code",
   "execution_count": null,
   "metadata": {},
   "outputs": [],
   "source": [
    "zw_labels = []\n",
    "zw_scores = []"
   ]
  },
  {
   "cell_type": "code",
   "execution_count": null,
   "metadata": {},
   "outputs": [],
   "source": [
    "zw = open('HMM Scores/zeroaccessHMM_zeroaccess vs winwebsec.txt', 'r')\n",
    "lines = wzz.read().splitlines()\n",
    "\n",
    "for line in lines:\n",
    "    s = line.split(',')\n",
    "    zw_labels.append(s[0])\n",
    "    zw_scores.append(float(s[1]) * -1)\n",
    "    \n",
    "zw.close()\n",
    "\n",
    "print(len(zw_labels))\n",
    "print(len(zw_scores))"
   ]
  },
  {
   "cell_type": "code",
   "execution_count": null,
   "metadata": {},
   "outputs": [],
   "source": [
    "roc_auc_score(zw_labels, zw_scores)"
   ]
  },
  {
   "cell_type": "markdown",
   "metadata": {},
   "source": [
    "# Test 5 and 6, zbot vs zeroaccess"
   ]
  },
  {
   "cell_type": "code",
   "execution_count": null,
   "metadata": {},
   "outputs": [],
   "source": []
  },
  {
   "cell_type": "code",
   "execution_count": null,
   "metadata": {},
   "outputs": [],
   "source": []
  }
 ],
 "metadata": {
  "kernelspec": {
   "display_name": "Python 3",
   "language": "python",
   "name": "python3"
  },
  "language_info": {
   "codemirror_mode": {
    "name": "ipython",
    "version": 3
   },
   "file_extension": ".py",
   "mimetype": "text/x-python",
   "name": "python",
   "nbconvert_exporter": "python",
   "pygments_lexer": "ipython3",
   "version": "3.8.5"
  }
 },
 "nbformat": 4,
 "nbformat_minor": 4
}

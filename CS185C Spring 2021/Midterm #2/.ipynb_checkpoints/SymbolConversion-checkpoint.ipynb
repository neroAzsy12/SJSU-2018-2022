{
 "cells": [
  {
   "cell_type": "code",
   "execution_count": 63,
   "metadata": {},
   "outputs": [],
   "source": [
    "import os\n",
    "import csv"
   ]
  },
  {
   "cell_type": "markdown",
   "metadata": {},
   "source": [
    "# Load the symbols for Malware Families"
   ]
  },
  {
   "cell_type": "code",
   "execution_count": 84,
   "metadata": {},
   "outputs": [
    {
     "name": "stdout",
     "output_type": "stream",
     "text": [
      "24\n"
     ]
    }
   ],
   "source": [
    "winwebsec_symbols = {}\n",
    "\n",
    "with open('Data/winwebsec/winwebsec_symbols.csv') as file:\n",
    "    for line in csv.reader(file):\n",
    "        winwebsec_symbols[line[1]] = line[2]\n",
    "\n",
    "winwebsec_symbols.pop('Opcodes')\n",
    "\n",
    "print(len(winwebsec_symbols))"
   ]
  },
  {
   "cell_type": "code",
   "execution_count": 85,
   "metadata": {},
   "outputs": [
    {
     "name": "stdout",
     "output_type": "stream",
     "text": [
      "24\n"
     ]
    }
   ],
   "source": [
    "zbot_symbols = {}\n",
    "\n",
    "with open('Data/zbot/zbot_symbols.csv') as file:\n",
    "    for line in csv.reader(file):\n",
    "        zbot_symbols[line[1]] = line[2]\n",
    "\n",
    "zbot_symbols.pop('Opcodes')\n",
    "\n",
    "print(len(zbot_symbols))"
   ]
  },
  {
   "cell_type": "code",
   "execution_count": 86,
   "metadata": {},
   "outputs": [
    {
     "name": "stdout",
     "output_type": "stream",
     "text": [
      "24\n"
     ]
    }
   ],
   "source": [
    "zeroaccess_symbols = {}\n",
    "\n",
    "with open('Data/zeroaccess/zeroaccess_symbols.csv') as file:\n",
    "    for line in csv.reader(file):\n",
    "        zeroaccess_symbols[line[1]] = line[2]\n",
    "\n",
    "zeroaccess_symbols.pop('Opcodes')\n",
    "\n",
    "print(len(zeroaccess_symbols))"
   ]
  },
  {
   "cell_type": "markdown",
   "metadata": {},
   "source": [
    "# Load the training and testing file names for each malware family"
   ]
  },
  {
   "cell_type": "code",
   "execution_count": 87,
   "metadata": {},
   "outputs": [
    {
     "name": "stdout",
     "output_type": "stream",
     "text": [
      "3488\n",
      "872\n"
     ]
    }
   ],
   "source": [
    "winwebsec_training = [] \n",
    "with open('Data/winwebsec/training_filenames.txt', 'r') as file:\n",
    "    names = file.read().splitlines()\n",
    "    \n",
    "    for name in names:\n",
    "        winwebsec_training.append(name)\n",
    "\n",
    "print(len(winwebsec_training))\n",
    "\n",
    "winwebsec_testing = [] \n",
    "with open('Data/winwebsec/testing_filenames.txt', 'r') as file:\n",
    "    names = file.read().splitlines()\n",
    "    \n",
    "    for name in names:\n",
    "        winwebsec_testing.append(name)\n",
    "\n",
    "print(len(winwebsec_testing))"
   ]
  },
  {
   "cell_type": "code",
   "execution_count": 88,
   "metadata": {},
   "outputs": [
    {
     "name": "stdout",
     "output_type": "stream",
     "text": [
      "1708\n",
      "428\n"
     ]
    }
   ],
   "source": [
    "zbot_training = []\n",
    "with open('Data/zbot/training_filenames.txt', 'r') as file:\n",
    "    names = file.read().splitlines()\n",
    "    \n",
    "    for name in names:\n",
    "        zbot_training.append(name)\n",
    "\n",
    "print(len(zbot_training))\n",
    "\n",
    "zbot_testing = []\n",
    "with open('Data/zbot/testing_filenames.txt', 'r') as file:\n",
    "    names = file.read().splitlines()\n",
    "    \n",
    "    for name in names:\n",
    "        zbot_testing.append(name)\n",
    "\n",
    "print(len(zbot_testing))"
   ]
  },
  {
   "cell_type": "code",
   "execution_count": 89,
   "metadata": {},
   "outputs": [
    {
     "name": "stdout",
     "output_type": "stream",
     "text": [
      "1044\n",
      "261\n"
     ]
    }
   ],
   "source": [
    "zeroaccess_training = []\n",
    "with open('Data/zeroaccess/training_filenames.txt', 'r') as file:\n",
    "    names = file.read().splitlines()\n",
    "    \n",
    "    for name in names:\n",
    "        zeroaccess_training.append(name)\n",
    "\n",
    "print(len(zeroaccess_training))\n",
    "\n",
    "zeroaccess_testing = []\n",
    "with open('Data/zeroaccess/testing_filenames.txt', 'r') as file:\n",
    "    names = file.read().splitlines()\n",
    "    \n",
    "    for name in names:\n",
    "        zeroaccess_testing.append(name)\n",
    "\n",
    "print(len(zeroaccess_testing))"
   ]
  },
  {
   "cell_type": "code",
   "execution_count": 90,
   "metadata": {},
   "outputs": [],
   "source": [
    "def opcodes_to_symbols(directory_name, filename_list, symbol_conversion, filename_save):\n",
    "    save_file = open(filename_save, 'w')\n",
    "    \n",
    "    for filename in os.listdir(directory_name):\n",
    "        if filename not in filename_list:\n",
    "            continue\n",
    "        \n",
    "        nameOfFile = os.path.join(directory_name, filename)\n",
    "        file = open(nameOfFile, 'r')\n",
    "        \n",
    "        opcodes = file.read().splitlines()\n",
    "        conversion = ''\n",
    "        \n",
    "        for opcode in opcodes:\n",
    "            if opcode in symbol_conversion.keys():\n",
    "                conversion += symbol_conversion[opcode]\n",
    "            else:\n",
    "                conversion += symbol_conversion['-']\n",
    "        \n",
    "        save_file.write(conversion + '\\n')\n",
    "        \n",
    "        file.close()\n",
    "    \n",
    "    save_file.close()"
   ]
  },
  {
   "cell_type": "markdown",
   "metadata": {},
   "source": [
    "# Symbol conversions for winwebsec HMM model"
   ]
  },
  {
   "cell_type": "code",
   "execution_count": 91,
   "metadata": {},
   "outputs": [],
   "source": [
    "opcodes_to_symbols('Malicia (Big 3 - Opcodes)/winwebsec', winwebsec_training, winwebsec_symbols, 'Data/winwebsec/dataset/winwebsec_training.txt')\n",
    "opcodes_to_symbols('Malicia (Big 3 - Opcodes)/winwebsec', winwebsec_testing, winwebsec_symbols, 'Data/winwebsec/dataset/winwebsec_testing.txt')\n",
    "\n",
    "opcodes_to_symbols('Malicia (Big 3 - Opcodes)/zbot', zbot_testing, winwebsec_symbols, 'Data/winwebsec/dataset/zbot_testing.txt')\n",
    "opcodes_to_symbols('Malicia (Big 3 - Opcodes)/zeroaccess', zeroaccess_testing, winwebsec_symbols, 'Data/winwebsec/dataset/zeroaccess_testing.txt')"
   ]
  },
  {
   "cell_type": "markdown",
   "metadata": {},
   "source": [
    "# Symbol conversions for zbot HMM model"
   ]
  },
  {
   "cell_type": "code",
   "execution_count": 92,
   "metadata": {},
   "outputs": [],
   "source": [
    "opcodes_to_symbols('Malicia (Big 3 - Opcodes)/zbot', zbot_training, zbot_symbols, 'Data/zbot/dataset/zbot_training.txt')\n",
    "opcodes_to_symbols('Malicia (Big 3 - Opcodes)/zbot', zbot_testing, zbot_symbols, 'Data/zbot/dataset/zbot_testing.txt')\n",
    "\n",
    "opcodes_to_symbols('Malicia (Big 3 - Opcodes)/winwebsec', winwebsec_testing, zbot_symbols, 'Data/zbot/dataset/winwebsec_testing.txt')\n",
    "opcodes_to_symbols('Malicia (Big 3 - Opcodes)/zeroaccess', zeroaccess_testing, zbot_symbols, 'Data/zbot/dataset/zeroaccess_testing.txt')"
   ]
  },
  {
   "cell_type": "markdown",
   "metadata": {},
   "source": [
    "# Symbol conversions for zeroaccess HMM model"
   ]
  },
  {
   "cell_type": "code",
   "execution_count": 93,
   "metadata": {},
   "outputs": [],
   "source": [
    "opcodes_to_symbols('Malicia (Big 3 - Opcodes)/zeroaccess', zeroaccess_training, zeroaccess_symbols, 'Data/zeroaccess/dataset/zeroaccess_training.txt')\n",
    "opcodes_to_symbols('Malicia (Big 3 - Opcodes)/zeroaccess', zeroaccess_testing, zeroaccess_symbols, 'Data/zeroaccess/dataset/zeroaccess_testing.txt')\n",
    "\n",
    "opcodes_to_symbols('Malicia (Big 3 - Opcodes)/zbot', zbot_testing, zeroaccess_symbols, 'Data/zeroaccess/dataset/zbot_testing.txt')\n",
    "opcodes_to_symbols('Malicia (Big 3 - Opcodes)/winwebsec', winwebsec_testing, zeroaccess_symbols, 'Data/zeroaccess/dataset/winwebsec_testing.txt')"
   ]
  },
  {
   "cell_type": "code",
   "execution_count": null,
   "metadata": {},
   "outputs": [],
   "source": []
  }
 ],
 "metadata": {
  "kernelspec": {
   "display_name": "Python 3",
   "language": "python",
   "name": "python3"
  },
  "language_info": {
   "codemirror_mode": {
    "name": "ipython",
    "version": 3
   },
   "file_extension": ".py",
   "mimetype": "text/x-python",
   "name": "python",
   "nbconvert_exporter": "python",
   "pygments_lexer": "ipython3",
   "version": "3.8.5"
  }
 },
 "nbformat": 4,
 "nbformat_minor": 4
}

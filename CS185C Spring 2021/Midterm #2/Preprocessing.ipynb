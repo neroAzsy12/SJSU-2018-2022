{
 "cells": [
  {
   "cell_type": "code",
   "execution_count": 130,
   "metadata": {},
   "outputs": [],
   "source": [
    "import os\n",
    "import pandas as pd"
   ]
  },
  {
   "cell_type": "markdown",
   "metadata": {},
   "source": [
    "# winwebsec"
   ]
  },
  {
   "cell_type": "code",
   "execution_count": 131,
   "metadata": {},
   "outputs": [
    {
     "name": "stdout",
     "output_type": "stream",
     "text": [
      "3488\n"
     ]
    }
   ],
   "source": [
    "winwebsec_training = []\n",
    "\n",
    "with open('Data/winwebsec/training_filenames.txt', 'r') as file:\n",
    "    names = file.read().splitlines()\n",
    "    \n",
    "    for name in names:\n",
    "        winwebsec_training.append(name)\n",
    "\n",
    "print(len(winwebsec_training))\n",
    "\n",
    "#for train in range(10):\n",
    "#    print(winwebsec_training[train])"
   ]
  },
  {
   "cell_type": "code",
   "execution_count": 132,
   "metadata": {},
   "outputs": [
    {
     "name": "stdout",
     "output_type": "stream",
     "text": [
      "4360\n",
      "328\n"
     ]
    }
   ],
   "source": [
    "files =  os.listdir(\"Malicia (Big 3 - Opcodes)/winwebsec\")\n",
    "print(len(files))\n",
    "\n",
    "winwebsec_opcodes = {}\n",
    "\n",
    "for filename in os.listdir(\"Malicia (Big 3 - Opcodes)/winwebsec\"):\n",
    "    if filename not in winwebsec_training:\n",
    "        continue\n",
    "    \n",
    "    nameOfFile = os.path.join('Malicia (Big 3 - Opcodes)/winwebsec', filename)\n",
    "    file = open(nameOfFile, 'r')\n",
    "    \n",
    "    lines = file.read().splitlines()\n",
    "    \n",
    "    for line in lines:\n",
    "        if line in winwebsec_opcodes.keys():\n",
    "            winwebsec_opcodes[line] += 1\n",
    "        else:\n",
    "            winwebsec_opcodes[line] = 1\n",
    "\n",
    "    file.close()\n",
    "\n",
    "print(len(winwebsec_opcodes.keys()))\n",
    "#print(winwebsec_opcodes.keys())"
   ]
  },
  {
   "cell_type": "code",
   "execution_count": 133,
   "metadata": {},
   "outputs": [
    {
     "name": "stdout",
     "output_type": "stream",
     "text": [
      "mov 2940564\n",
      "push 1855306\n",
      "call 845143\n",
      "cmp 780504\n",
      "pop 689154\n",
      "jz 519670\n",
      "add 459835\n",
      "jnz 457767\n",
      "test 366413\n",
      "lea 357579\n",
      "jmp 351335\n",
      "retn 310727\n",
      "xor 309894\n",
      "and 226599\n",
      "sub 219440\n",
      "inc 213540\n",
      "or 174428\n",
      "dec 96077\n",
      "shr 94269\n",
      "jb 91218\n"
     ]
    }
   ],
   "source": [
    "winwebsec_sorted = sorted(winwebsec_opcodes.items(), key = lambda x : x[1], reverse = True)\n",
    "\n",
    "for w in range(20):\n",
    "    print(winwebsec_sorted[w][0], winwebsec_sorted[w][1])"
   ]
  },
  {
   "cell_type": "markdown",
   "metadata": {},
   "source": [
    "# zbot"
   ]
  },
  {
   "cell_type": "code",
   "execution_count": 134,
   "metadata": {},
   "outputs": [
    {
     "name": "stdout",
     "output_type": "stream",
     "text": [
      "1708\n"
     ]
    }
   ],
   "source": [
    "zbot_training = []\n",
    "\n",
    "with open('Data/zbot/training_filenames.txt', 'r') as file:\n",
    "    names = file.read().splitlines()\n",
    "    \n",
    "    for name in names:\n",
    "        zbot_training.append(name)\n",
    "\n",
    "print(len(zbot_training))"
   ]
  },
  {
   "cell_type": "code",
   "execution_count": 135,
   "metadata": {},
   "outputs": [
    {
     "name": "stdout",
     "output_type": "stream",
     "text": [
      "2136\n",
      "306\n"
     ]
    }
   ],
   "source": [
    "files =  os.listdir(\"Malicia (Big 3 - Opcodes)/zbot\")\n",
    "print(len(files))\n",
    "\n",
    "zbot_opcodes = {}\n",
    "\n",
    "for filename in os.listdir(\"Malicia (Big 3 - Opcodes)/zbot\"):\n",
    "    if filename not in zbot_training:\n",
    "        continue\n",
    "    \n",
    "    nameOfFile = os.path.join('Malicia (Big 3 - Opcodes)/zbot', filename)\n",
    "    file = open(nameOfFile, 'r')\n",
    "    \n",
    "    lines = file.read().splitlines()\n",
    "    \n",
    "    for line in lines:\n",
    "        if line in zbot_opcodes.keys():\n",
    "            zbot_opcodes[line] += 1\n",
    "        else:\n",
    "            zbot_opcodes[line] = 1\n",
    "\n",
    "    file.close()\n",
    "    \n",
    "print(len(zbot_opcodes.keys()))\n",
    "#print(zbot_opcodes.keys())"
   ]
  },
  {
   "cell_type": "code",
   "execution_count": 136,
   "metadata": {},
   "outputs": [
    {
     "name": "stdout",
     "output_type": "stream",
     "text": [
      "mov 675554\n",
      "add 458847\n",
      "push 369548\n",
      "jmp 360083\n",
      "nop 180525\n",
      "call 141235\n",
      "pop 96234\n",
      "cmp 77501\n",
      "retn 69569\n",
      "xor 54447\n",
      "jz 51378\n",
      "sub 48927\n",
      "inc 42757\n",
      "test 37008\n",
      "lea 36784\n",
      "jnz 36783\n",
      "or 35511\n",
      "dec 28262\n",
      "and 25687\n",
      "xchg 21250\n"
     ]
    }
   ],
   "source": [
    "zbot_sorted = sorted(zbot_opcodes.items(), key = lambda x : x[1], reverse = True)\n",
    "\n",
    "for w in range(20):\n",
    "    print(zbot_sorted[w][0], zbot_sorted[w][1])"
   ]
  },
  {
   "cell_type": "markdown",
   "metadata": {},
   "source": [
    "# zeroaccess"
   ]
  },
  {
   "cell_type": "code",
   "execution_count": 137,
   "metadata": {},
   "outputs": [
    {
     "name": "stdout",
     "output_type": "stream",
     "text": [
      "1044\n"
     ]
    }
   ],
   "source": [
    "zeroaccess_training = []\n",
    "\n",
    "with open('Data/zeroaccess/training_filenames.txt', 'r') as file:\n",
    "    names = file.read().splitlines()\n",
    "    \n",
    "    for name in names:\n",
    "        zeroaccess_training.append(name)\n",
    "\n",
    "print(len(zeroaccess_training))"
   ]
  },
  {
   "cell_type": "code",
   "execution_count": 138,
   "metadata": {},
   "outputs": [
    {
     "name": "stdout",
     "output_type": "stream",
     "text": [
      "1305\n",
      "403\n"
     ]
    }
   ],
   "source": [
    "files =  os.listdir(\"Malicia (Big 3 - Opcodes)/zeroaccess\")\n",
    "print(len(files))\n",
    "\n",
    "zeroaccess_opcodes = {}\n",
    "\n",
    "for filename in os.listdir(\"Malicia (Big 3 - Opcodes)/zeroaccess\"):\n",
    "    if filename not in zeroaccess_training:\n",
    "        continue\n",
    "    \n",
    "    nameOfFile = os.path.join('Malicia (Big 3 - Opcodes)/zeroaccess', filename)\n",
    "    file = open(nameOfFile, 'r')\n",
    "    \n",
    "    lines = file.read().splitlines()\n",
    "    \n",
    "    for line in lines:\n",
    "        if line in zeroaccess_opcodes.keys():\n",
    "            zeroaccess_opcodes[line] += 1\n",
    "        else:\n",
    "            zeroaccess_opcodes[line] = 1\n",
    "\n",
    "    file.close()\n",
    "\n",
    "print(len(zeroaccess_opcodes.keys()))\n",
    "#print(zeroaccess_opcodes.keys())"
   ]
  },
  {
   "cell_type": "code",
   "execution_count": 139,
   "metadata": {},
   "outputs": [
    {
     "name": "stdout",
     "output_type": "stream",
     "text": [
      "mov 2097439\n",
      "xor 532997\n",
      "push 509526\n",
      "add 331544\n",
      "cmp 267445\n",
      "jmp 210510\n",
      "or 198099\n",
      "sub 184322\n",
      "call 160680\n",
      "and 139766\n",
      "jnz 111822\n",
      "lea 94988\n",
      "adc 83577\n",
      "pop 75746\n",
      "inc 74264\n",
      "jz 73263\n",
      "sbb 68361\n",
      "movzx 59212\n",
      "imul 56892\n",
      "dec 53130\n"
     ]
    }
   ],
   "source": [
    "zeroaccess_sorted = sorted(zeroaccess_opcodes.items(), key = lambda x : x[1], reverse = True)\n",
    "\n",
    "for w in range(20):\n",
    "    print(zeroaccess_sorted[w][0], zeroaccess_sorted[w][1])"
   ]
  },
  {
   "cell_type": "code",
   "execution_count": 140,
   "metadata": {},
   "outputs": [],
   "source": [
    "def opcode_symbol(opcode_tuple, symbol_num):\n",
    "    opcode_symbol_list = []\n",
    "    \n",
    "    symbol_list = ['A', 'B', 'C', 'D', 'E', 'F', 'G', 'H', 'I', 'J', 'K', 'L', 'M', 'N', 'O', 'P', 'Q', 'R', 'S', 'T', 'U', 'V', 'W', 'X', 'Y', 'Z']\n",
    "    \n",
    "    for i in range(symbol_num):\n",
    "        opcode_symbol_list.append([opcode_tuple[i][0], symbol_list[i]])\n",
    "    \n",
    "    #for j in range(symbol_num, len(opcode_tuple)):\n",
    "    #    opcode_symbol_list.append([opcode_tuple[j][0], symbol_list[symbol_num]])\n",
    "    \n",
    "    opcode_symbol_list.append(['-', symbol_list[symbol_num]])\n",
    "    \n",
    "    return opcode_symbol_list"
   ]
  },
  {
   "cell_type": "code",
   "execution_count": 141,
   "metadata": {},
   "outputs": [
    {
     "name": "stdout",
     "output_type": "stream",
     "text": [
      "21\n",
      "21\n",
      "21\n"
     ]
    }
   ],
   "source": [
    "unique_symbols = 20\n",
    "\n",
    "winwebsec_data = opcode_symbol(winwebsec_sorted, unique_symbols)\n",
    "zbot_data = opcode_symbol(zbot_sorted, unique_symbols)\n",
    "zeroaccess_data = opcode_symbol(zeroaccess_sorted, unique_symbols)\n",
    "\n",
    "print(len(winwebsec_data))\n",
    "print(len(zbot_data))\n",
    "print(len(zeroaccess_data))"
   ]
  },
  {
   "cell_type": "markdown",
   "metadata": {},
   "source": [
    "# Save the opcode-symbol mapping to CSV files using Pandas"
   ]
  },
  {
   "cell_type": "code",
   "execution_count": 142,
   "metadata": {},
   "outputs": [
    {
     "data": {
      "text/html": [
       "<div>\n",
       "<style scoped>\n",
       "    .dataframe tbody tr th:only-of-type {\n",
       "        vertical-align: middle;\n",
       "    }\n",
       "\n",
       "    .dataframe tbody tr th {\n",
       "        vertical-align: top;\n",
       "    }\n",
       "\n",
       "    .dataframe thead th {\n",
       "        text-align: right;\n",
       "    }\n",
       "</style>\n",
       "<table border=\"1\" class=\"dataframe\">\n",
       "  <thead>\n",
       "    <tr style=\"text-align: right;\">\n",
       "      <th></th>\n",
       "      <th>Opcodes</th>\n",
       "      <th>Symbol</th>\n",
       "    </tr>\n",
       "  </thead>\n",
       "  <tbody>\n",
       "    <tr>\n",
       "      <th>0</th>\n",
       "      <td>mov</td>\n",
       "      <td>A</td>\n",
       "    </tr>\n",
       "    <tr>\n",
       "      <th>1</th>\n",
       "      <td>push</td>\n",
       "      <td>B</td>\n",
       "    </tr>\n",
       "    <tr>\n",
       "      <th>2</th>\n",
       "      <td>call</td>\n",
       "      <td>C</td>\n",
       "    </tr>\n",
       "    <tr>\n",
       "      <th>3</th>\n",
       "      <td>cmp</td>\n",
       "      <td>D</td>\n",
       "    </tr>\n",
       "    <tr>\n",
       "      <th>4</th>\n",
       "      <td>pop</td>\n",
       "      <td>E</td>\n",
       "    </tr>\n",
       "  </tbody>\n",
       "</table>\n",
       "</div>"
      ],
      "text/plain": [
       "  Opcodes Symbol\n",
       "0     mov      A\n",
       "1    push      B\n",
       "2    call      C\n",
       "3     cmp      D\n",
       "4     pop      E"
      ]
     },
     "execution_count": 142,
     "metadata": {},
     "output_type": "execute_result"
    }
   ],
   "source": [
    "winwebsec_df = pd.DataFrame(winwebsec_data, columns = ['Opcodes', 'Symbol'])\n",
    "\n",
    "winwebsec_df.to_csv('Data/winwebsec/winwebsec_symbols.csv')\n",
    "winwebsec_df.head()"
   ]
  },
  {
   "cell_type": "code",
   "execution_count": 143,
   "metadata": {},
   "outputs": [
    {
     "data": {
      "text/html": [
       "<div>\n",
       "<style scoped>\n",
       "    .dataframe tbody tr th:only-of-type {\n",
       "        vertical-align: middle;\n",
       "    }\n",
       "\n",
       "    .dataframe tbody tr th {\n",
       "        vertical-align: top;\n",
       "    }\n",
       "\n",
       "    .dataframe thead th {\n",
       "        text-align: right;\n",
       "    }\n",
       "</style>\n",
       "<table border=\"1\" class=\"dataframe\">\n",
       "  <thead>\n",
       "    <tr style=\"text-align: right;\">\n",
       "      <th></th>\n",
       "      <th>Opcodes</th>\n",
       "      <th>Symbol</th>\n",
       "    </tr>\n",
       "  </thead>\n",
       "  <tbody>\n",
       "    <tr>\n",
       "      <th>0</th>\n",
       "      <td>mov</td>\n",
       "      <td>A</td>\n",
       "    </tr>\n",
       "    <tr>\n",
       "      <th>1</th>\n",
       "      <td>add</td>\n",
       "      <td>B</td>\n",
       "    </tr>\n",
       "    <tr>\n",
       "      <th>2</th>\n",
       "      <td>push</td>\n",
       "      <td>C</td>\n",
       "    </tr>\n",
       "    <tr>\n",
       "      <th>3</th>\n",
       "      <td>jmp</td>\n",
       "      <td>D</td>\n",
       "    </tr>\n",
       "    <tr>\n",
       "      <th>4</th>\n",
       "      <td>nop</td>\n",
       "      <td>E</td>\n",
       "    </tr>\n",
       "  </tbody>\n",
       "</table>\n",
       "</div>"
      ],
      "text/plain": [
       "  Opcodes Symbol\n",
       "0     mov      A\n",
       "1     add      B\n",
       "2    push      C\n",
       "3     jmp      D\n",
       "4     nop      E"
      ]
     },
     "execution_count": 143,
     "metadata": {},
     "output_type": "execute_result"
    }
   ],
   "source": [
    "zbot_df = pd.DataFrame(zbot_data, columns = ['Opcodes', 'Symbol'])\n",
    "\n",
    "zbot_df.to_csv('Data/zbot/zbot_symbols.csv')\n",
    "zbot_df.head()"
   ]
  },
  {
   "cell_type": "code",
   "execution_count": 144,
   "metadata": {},
   "outputs": [
    {
     "data": {
      "text/html": [
       "<div>\n",
       "<style scoped>\n",
       "    .dataframe tbody tr th:only-of-type {\n",
       "        vertical-align: middle;\n",
       "    }\n",
       "\n",
       "    .dataframe tbody tr th {\n",
       "        vertical-align: top;\n",
       "    }\n",
       "\n",
       "    .dataframe thead th {\n",
       "        text-align: right;\n",
       "    }\n",
       "</style>\n",
       "<table border=\"1\" class=\"dataframe\">\n",
       "  <thead>\n",
       "    <tr style=\"text-align: right;\">\n",
       "      <th></th>\n",
       "      <th>Opcodes</th>\n",
       "      <th>Symbol</th>\n",
       "    </tr>\n",
       "  </thead>\n",
       "  <tbody>\n",
       "    <tr>\n",
       "      <th>0</th>\n",
       "      <td>mov</td>\n",
       "      <td>A</td>\n",
       "    </tr>\n",
       "    <tr>\n",
       "      <th>1</th>\n",
       "      <td>xor</td>\n",
       "      <td>B</td>\n",
       "    </tr>\n",
       "    <tr>\n",
       "      <th>2</th>\n",
       "      <td>push</td>\n",
       "      <td>C</td>\n",
       "    </tr>\n",
       "    <tr>\n",
       "      <th>3</th>\n",
       "      <td>add</td>\n",
       "      <td>D</td>\n",
       "    </tr>\n",
       "    <tr>\n",
       "      <th>4</th>\n",
       "      <td>cmp</td>\n",
       "      <td>E</td>\n",
       "    </tr>\n",
       "  </tbody>\n",
       "</table>\n",
       "</div>"
      ],
      "text/plain": [
       "  Opcodes Symbol\n",
       "0     mov      A\n",
       "1     xor      B\n",
       "2    push      C\n",
       "3     add      D\n",
       "4     cmp      E"
      ]
     },
     "execution_count": 144,
     "metadata": {},
     "output_type": "execute_result"
    }
   ],
   "source": [
    "zeroaccess_df = pd.DataFrame(zeroaccess_data, columns = ['Opcodes', 'Symbol'])\n",
    "\n",
    "zeroaccess_df.to_csv('Data/zeroaccess/zeroaccess_symbols.csv')\n",
    "zeroaccess_df.head()"
   ]
  },
  {
   "cell_type": "code",
   "execution_count": null,
   "metadata": {},
   "outputs": [],
   "source": []
  },
  {
   "cell_type": "code",
   "execution_count": null,
   "metadata": {},
   "outputs": [],
   "source": []
  }
 ],
 "metadata": {
  "kernelspec": {
   "display_name": "Python 3",
   "language": "python",
   "name": "python3"
  },
  "language_info": {
   "codemirror_mode": {
    "name": "ipython",
    "version": 3
   },
   "file_extension": ".py",
   "mimetype": "text/x-python",
   "name": "python",
   "nbconvert_exporter": "python",
   "pygments_lexer": "ipython3",
   "version": "3.8.5"
  }
 },
 "nbformat": 4,
 "nbformat_minor": 4
}

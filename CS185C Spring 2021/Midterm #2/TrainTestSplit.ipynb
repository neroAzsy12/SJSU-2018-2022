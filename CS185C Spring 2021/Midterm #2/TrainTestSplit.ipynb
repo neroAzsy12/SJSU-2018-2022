{
 "cells": [
  {
   "cell_type": "code",
   "execution_count": 1,
   "metadata": {},
   "outputs": [],
   "source": [
    "import os\n",
    "import numpy as np\n",
    "from sklearn.model_selection import train_test_split"
   ]
  },
  {
   "cell_type": "code",
   "execution_count": 2,
   "metadata": {},
   "outputs": [],
   "source": [
    "np.random.seed(42)"
   ]
  },
  {
   "cell_type": "markdown",
   "metadata": {},
   "source": [
    "# winwebsec"
   ]
  },
  {
   "cell_type": "markdown",
   "metadata": {},
   "source": [
    "### Getting the file names of the malware family winwebsec "
   ]
  },
  {
   "cell_type": "code",
   "execution_count": 3,
   "metadata": {},
   "outputs": [
    {
     "name": "stdout",
     "output_type": "stream",
     "text": [
      "4360\n"
     ]
    }
   ],
   "source": [
    "winwebsec_files = [] # for rewriting the files start at [36:]\n",
    "\n",
    "for filename in os.listdir(\"Malicia (Big 3 - Opcodes)/winwebsec\"):\n",
    "    nameOfFile = os.path.join('Malicia (Big 3 - Opcodes)/winwebsec', filename)\n",
    "    \n",
    "    winwebsec_files.append(nameOfFile)\n",
    "    \n",
    "print(len(winwebsec_files)) # there should 4360 files of winwebsec malicious files"
   ]
  },
  {
   "cell_type": "markdown",
   "metadata": {},
   "source": [
    "### Splitting the winwebsec files into training and testing sets 80:20"
   ]
  },
  {
   "cell_type": "code",
   "execution_count": 4,
   "metadata": {},
   "outputs": [
    {
     "name": "stdout",
     "output_type": "stream",
     "text": [
      "3488\n",
      "7eb78a40097200e12edf3b10bbdf4fc6b53d1fe9.asm.txt\n",
      "8c5114ee30f13d86073e9557d2fe3d11df545ebe.asm.txt\n",
      "5100cdaa7f4c26a6025a3d1de8ec602588d81d9c.asm.txt\n",
      "2c5a84b2105b03d60617547b243dee744b7566e7.asm.txt\n",
      "41b22a35530708d131d8c8b54bc0392a06b14f15.asm.txt\n",
      "cf25bb83fe4d1fb6451295946ad889fff0770f05.asm.txt\n",
      "b152a2931e3f82d05fcec7fe7fdaca4d7d094c80.asm.txt\n",
      "09e89f661cfe191dcbcd8f002fb7b255c195344b.asm.txt\n",
      "1aff6210c4e0b38769fb3ea8150069b2fda71aac.asm.txt\n",
      "a0ff7e0effc4aa189ac6edd1f4f8010700d9d8b3.asm.txt\n",
      "\n",
      "872\n",
      "9fc5f23dc66a7d66a762472fbf4ad0bdacae8f66.asm.txt\n",
      "5cb131f9db17d2897543861436b2cbfb60ecc9c8.asm.txt\n",
      "d04f55cfc54ea77a8ffa3fa8a62158870123a021.asm.txt\n",
      "0b5f6fe05264465ac2418ad799652e2b36ac1027.asm.txt\n",
      "9172559f151741034ffd00fb5d49aee3fbdd49d9.asm.txt\n",
      "8f040516700e1e3945e6a4c55ab7f33d75c6f716.asm.txt\n",
      "2d7f552c3a6b7b0924fb7e7ef6fb95718e535f95.asm.txt\n",
      "4473a1642c5d6bb7c7aceb3fd00002dad31248c2.asm.txt\n",
      "aa2096cae4be8b8cd85fcb1f1630c1da6bf9414e.asm.txt\n",
      "77aa37dd1d84337352969154eb070f6eb7cd8d9c.asm.txt\n"
     ]
    }
   ],
   "source": [
    "# set random_state to 42 to always get the same train_test_split results\n",
    "winwebsec_training, winwebsec_testing = train_test_split(winwebsec_files, train_size = 0.8, test_size = 0.2, random_state = 42)\n",
    "\n",
    "print(len(winwebsec_training))  # should be 3488\n",
    "\n",
    "for train in range(10):\n",
    "    print(winwebsec_training[train][36:])\n",
    "\n",
    "print()\n",
    "    \n",
    "print(len(winwebsec_testing))  # should be 872\n",
    "\n",
    "for test in range(10):\n",
    "    print(winwebsec_testing[test][36:])"
   ]
  },
  {
   "cell_type": "markdown",
   "metadata": {},
   "source": [
    "### Write the list of training and testing file names into separate files"
   ]
  },
  {
   "cell_type": "code",
   "execution_count": 5,
   "metadata": {},
   "outputs": [],
   "source": [
    "winwebsec_trainfile = open('Data/winwebsec/training_filenames.txt', 'w')\n",
    "\n",
    "for filename in winwebsec_training:\n",
    "    winwebsec_trainfile.write(filename[36:] + '\\n')\n",
    "\n",
    "winwebsec_trainfile.close()\n",
    "\n",
    "winwebsec_testfile = open('Data/winwebsec/testing_filenames.txt', 'w')\n",
    "\n",
    "for filename in winwebsec_testing:\n",
    "    winwebsec_testfile.write(filename[36:] + '\\n')\n",
    "\n",
    "winwebsec_testfile.close()"
   ]
  },
  {
   "cell_type": "code",
   "execution_count": 6,
   "metadata": {},
   "outputs": [],
   "source": [
    "#for data in range(len(winwebsec_training)):\n",
    "#    training_file = open(winwebsec_training[data], 'r')\n",
    "#    file = open('WinWebSec/Training' + winwebsec_training[data][35:], 'w')\n",
    "    \n",
    "#    file.write(training_file.read())\n",
    "    \n",
    "#    file.close()\n",
    "#    training_file.close()"
   ]
  },
  {
   "cell_type": "markdown",
   "metadata": {},
   "source": [
    "# zbot"
   ]
  },
  {
   "cell_type": "markdown",
   "metadata": {},
   "source": [
    "### Getting the file names of the malware family zbot"
   ]
  },
  {
   "cell_type": "code",
   "execution_count": 7,
   "metadata": {},
   "outputs": [
    {
     "name": "stdout",
     "output_type": "stream",
     "text": [
      "2136\n"
     ]
    }
   ],
   "source": [
    "zbot_files = []\n",
    "\n",
    "for filename in os.listdir(\"Malicia (Big 3 - Opcodes)/zbot\"):\n",
    "    nameOfFile = os.path.join('Malicia (Big 3 - Opcodes)/zbot', filename)\n",
    "    \n",
    "    zbot_files.append(nameOfFile)\n",
    "    \n",
    "print(len(zbot_files)) # there should be 2136 files of zbot malicious files"
   ]
  },
  {
   "cell_type": "code",
   "execution_count": 8,
   "metadata": {},
   "outputs": [
    {
     "name": "stdout",
     "output_type": "stream",
     "text": [
      "1708\n",
      "/621afe95fc80148a41ec14fa9f274cb96163c33d.asm.txt\n",
      "/420b2e8839320d2539dfd2db63256e94e36903ad.asm.txt\n",
      "/1d2deb46f71b4899ae65f4343fa7ed1d1a2b8e28.asm.txt\n",
      "/52465b605011e5ff5a49656d4986b78e34ed98ff.asm.txt\n",
      "/2471140bf8c9085d6890803e2badcee1ee751da3.asm.txt\n",
      "/0bc9fd762be52e557d64339194a442b9e3b5e84d.asm.txt\n",
      "/b2982165f6f5222ae7a712dd6090ae913101707f.asm.txt\n",
      "/8369a608acbc1e022b27dd410effc88ec0465ec4.asm.txt\n",
      "/ad002fe2ba1136149f14a2354d0afc8b5f8d0f9f.asm.txt\n",
      "/a484d7aee9bc8ce1e1eb897b66ae527697a861c1.asm.txt\n",
      "\n",
      "428\n",
      "Malicia (Big 3 - Opcodes)/zbot/99e01d4db01571994d6a2e3b20daa94d74c01920.asm.txt\n",
      "Malicia (Big 3 - Opcodes)/zbot/a563ca78a774498fc989b53613e2c93d45d2da61.asm.txt\n",
      "Malicia (Big 3 - Opcodes)/zbot/5df062eed3f37e852f322cd61a0df3f484572009.asm.txt\n",
      "Malicia (Big 3 - Opcodes)/zbot/b9f6f06c9b400c3dd5864ba2366c2ecf37fd10bc.asm.txt\n",
      "Malicia (Big 3 - Opcodes)/zbot/f2f7cf50215aaa184c6a0074a9aecdbe47cfc056.asm.txt\n",
      "Malicia (Big 3 - Opcodes)/zbot/87b542920308360c59abb970bb92400f39d3eab1.asm.txt\n",
      "Malicia (Big 3 - Opcodes)/zbot/0fae09599b7035a30a9812cc855ebfbed88bf1a4.asm.txt\n",
      "Malicia (Big 3 - Opcodes)/zbot/4890fd7dbdf8e53a2ce0119281ded1b8c46216cf.asm.txt\n",
      "Malicia (Big 3 - Opcodes)/zbot/d97d52744d5f57aa67ade07924e702ff0e990598.asm.txt\n",
      "Malicia (Big 3 - Opcodes)/zbot/00b196f09c1901bdd0d3037eaf43e2df2c03c072.asm.txt\n"
     ]
    }
   ],
   "source": [
    "# set random_state to 42 to always get the same train_test_split results\n",
    "zbot_training, zbot_testing = train_test_split(zbot_files, train_size = 0.8, test_size = 0.2, random_state = 42)\n",
    "\n",
    "print(len(zbot_training))\n",
    "\n",
    "for train in range(10):\n",
    "    print(zbot_training[train][30:])\n",
    "\n",
    "print()\n",
    "\n",
    "print(len(zbot_testing))\n",
    "\n",
    "for test in range(10):\n",
    "    print(zbot_testing[test])"
   ]
  },
  {
   "cell_type": "markdown",
   "metadata": {},
   "source": [
    "### Write the list of training and testing file names into separate files"
   ]
  },
  {
   "cell_type": "code",
   "execution_count": 9,
   "metadata": {},
   "outputs": [],
   "source": [
    "zbot_trainfile = open('Data/zbot/training_filenames.txt', 'w')\n",
    "\n",
    "for filename in zbot_training:\n",
    "    zbot_trainfile.write(filename[31:] + '\\n')\n",
    "\n",
    "zbot_trainfile.close()\n",
    "\n",
    "zbot_testfile = open('Data/zbot/testing_filenames.txt', 'w')\n",
    "\n",
    "for filename in zbot_testing:\n",
    "    zbot_testfile.write(filename[31:] + '\\n')\n",
    "\n",
    "zbot_testfile.close()"
   ]
  },
  {
   "cell_type": "code",
   "execution_count": 10,
   "metadata": {},
   "outputs": [],
   "source": [
    "#for data in range(len(zbot_training)):\n",
    "#    training_file = open(zbot_training[data], 'r')\n",
    "#    file = open('Zbot/Training' + zbot_training[data][30:], 'w')\n",
    "    \n",
    "#    file.write(training_file.read())\n",
    "    \n",
    "#    file.close()\n",
    "#    training_file.close()"
   ]
  },
  {
   "cell_type": "markdown",
   "metadata": {},
   "source": [
    "# zeroaccess"
   ]
  },
  {
   "cell_type": "markdown",
   "metadata": {},
   "source": [
    "### Getting the file names of the malware family zeroaccess"
   ]
  },
  {
   "cell_type": "code",
   "execution_count": 11,
   "metadata": {},
   "outputs": [
    {
     "name": "stdout",
     "output_type": "stream",
     "text": [
      "1305\n"
     ]
    }
   ],
   "source": [
    "zeroaccess_files = []\n",
    "\n",
    "for filename in os.listdir(\"Malicia (Big 3 - Opcodes)/zeroaccess\"):\n",
    "    nameOfFile = os.path.join('Malicia (Big 3 - Opcodes)/zeroaccess', filename)\n",
    "    \n",
    "    zeroaccess_files.append(nameOfFile)\n",
    "    \n",
    "print(len(zeroaccess_files)) # there should be 1305 files of zeroaccess files"
   ]
  },
  {
   "cell_type": "code",
   "execution_count": 12,
   "metadata": {},
   "outputs": [
    {
     "name": "stdout",
     "output_type": "stream",
     "text": [
      "1044\n",
      "/1576e9093ff4458bfe9278427875f927ce881733.asm.txt\n",
      "/043828a5201ac90eac5892814235ad90663abfd9.asm.txt\n",
      "/5fb64e3299de27d3fe69cd1ec14dd53d519493fc.asm.txt\n",
      "/aafcad71b159bae174416342ebfe4f05899663b0.asm.txt\n",
      "/ceaab3267dfff2e5622124158e5b2df2bba4851e.asm.txt\n",
      "/9dba6cab2de38311d05285f83f070eeb4794fac4.asm.txt\n",
      "/1d07d8a874cc98cb7c35260d42dbb171756d01da.asm.txt\n",
      "/94fec42ce30df4abfb70586489159d1a2fb3dddb.asm.txt\n",
      "/ca0eb8d5b4b2eaacb5c034f5ef2e21556534dde0.asm.txt\n",
      "/f6c12d03e6d0363b1e5b51d24309d7137c4db1bd.asm.txt\n",
      "\n",
      "261\n",
      "Malicia (Big 3 - Opcodes)/zeroaccess/770a3cf74e826b4844f376f53aeba5bf6777074f.asm.txt\n",
      "Malicia (Big 3 - Opcodes)/zeroaccess/340d0335ea6807560f1a0e0ef4042b8ed732fbf2.asm.txt\n",
      "Malicia (Big 3 - Opcodes)/zeroaccess/66865860f40cb05cbe7e6cbb806cc80ad095a693.asm.txt\n",
      "Malicia (Big 3 - Opcodes)/zeroaccess/32ebe1fa6f9d4ba73179c11fe2395ec36b7cc6a8.asm.txt\n",
      "Malicia (Big 3 - Opcodes)/zeroaccess/ea53e230b715ac3b196f5fb97dd16968e46caf2e.asm.txt\n",
      "Malicia (Big 3 - Opcodes)/zeroaccess/90233a790384c8f48d54b03e0666468e1c3b2c80.asm.txt\n",
      "Malicia (Big 3 - Opcodes)/zeroaccess/3c90c5c03b6edb9b919de45481bb4717c8d1bea6.asm.txt\n",
      "Malicia (Big 3 - Opcodes)/zeroaccess/3bc170688f6bb348348dca3b75c347ac6ddf8dec.asm.txt\n",
      "Malicia (Big 3 - Opcodes)/zeroaccess/e28232bbc526164af383636399bd68533b7e5423.asm.txt\n",
      "Malicia (Big 3 - Opcodes)/zeroaccess/b990ea10c3cadd25c7c11e90cb8c6c95c132bfd5.asm.txt\n"
     ]
    }
   ],
   "source": [
    "# set random_state to 42 to always get the same train_test_split results\n",
    "zeroaccess_training, zeroaccess_testing = train_test_split(zeroaccess_files, train_size = 0.8, test_size = 0.2, random_state = 42)\n",
    "\n",
    "print(len(zeroaccess_training))\n",
    "\n",
    "for train in range(10):\n",
    "    print(zeroaccess_training[train][36:])\n",
    "\n",
    "print()\n",
    "\n",
    "print(len(zeroaccess_testing))\n",
    "\n",
    "for test in range(10):\n",
    "    print(zeroaccess_testing[test])"
   ]
  },
  {
   "cell_type": "markdown",
   "metadata": {},
   "source": [
    "### Write the list of training and testing file names into separate files"
   ]
  },
  {
   "cell_type": "code",
   "execution_count": 13,
   "metadata": {},
   "outputs": [],
   "source": [
    "zeroaccess_trainfile = open('Data/zeroaccess/training_filenames.txt', 'w')\n",
    "\n",
    "for filename in zeroaccess_training:\n",
    "    zeroaccess_trainfile.write(filename[37:] + '\\n')\n",
    "\n",
    "zeroaccess_trainfile.close()\n",
    "\n",
    "zeroaccess_testfile = open('Data/zeroaccess/testing_filenames.txt', 'w')\n",
    "\n",
    "for filename in zeroaccess_testing:\n",
    "    zeroaccess_testfile.write(filename[37:] + '\\n')\n",
    "\n",
    "zeroaccess_testfile.close()"
   ]
  },
  {
   "cell_type": "code",
   "execution_count": 14,
   "metadata": {},
   "outputs": [],
   "source": [
    "#for data in range(len(zeroaccess_training)):\n",
    "#    training_file = open(zeroaccess_training[data], 'r')\n",
    "#    file = open('Zeroaccess/Training' + zeroaccess_training[data][36:], 'w')\n",
    "    \n",
    "#    file.write(training_file.read())\n",
    "    \n",
    "#    file.close()\n",
    "#    training_file.close()"
   ]
  }
 ],
 "metadata": {
  "kernelspec": {
   "display_name": "Python 3",
   "language": "python",
   "name": "python3"
  },
  "language_info": {
   "codemirror_mode": {
    "name": "ipython",
    "version": 3
   },
   "file_extension": ".py",
   "mimetype": "text/x-python",
   "name": "python",
   "nbconvert_exporter": "python",
   "pygments_lexer": "ipython3",
   "version": "3.8.5"
  }
 },
 "nbformat": 4,
 "nbformat_minor": 4
}

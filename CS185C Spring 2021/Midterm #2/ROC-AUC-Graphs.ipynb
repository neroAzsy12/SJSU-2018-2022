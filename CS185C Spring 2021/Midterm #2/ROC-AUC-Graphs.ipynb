{
 "cells": [
  {
   "cell_type": "code",
   "execution_count": 315,
   "metadata": {},
   "outputs": [],
   "source": [
    "import os\n",
    "import numpy as np\n",
    "from sklearn.metrics import roc_auc_score\n",
    "from sklearn import metrics"
   ]
  },
  {
   "cell_type": "markdown",
   "metadata": {},
   "source": [
    "# Test 1 and 2 winwebsec vs zbot"
   ]
  },
  {
   "cell_type": "markdown",
   "metadata": {},
   "source": [
    "## winwebsec HMM"
   ]
  },
  {
   "cell_type": "code",
   "execution_count": 316,
   "metadata": {},
   "outputs": [],
   "source": [
    "wz_labels = []\n",
    "wz_scores = []"
   ]
  },
  {
   "cell_type": "code",
   "execution_count": 317,
   "metadata": {},
   "outputs": [
    {
     "name": "stdout",
     "output_type": "stream",
     "text": [
      "1300\n",
      "1300\n"
     ]
    }
   ],
   "source": [
    "wz = open('HMM Scores/winwebsecHMM_winwebsec vs zbot.txt', 'r')\n",
    "lines = wz.read().splitlines()\n",
    "\n",
    "for line in lines:\n",
    "    s = line.split(',')\n",
    "    wz_labels.append(s[0])\n",
    "    wz_scores.append(float(s[1]) * -1)\n",
    "    \n",
    "wz.close()\n",
    "\n",
    "print(len(wz_labels))\n",
    "print(len(wz_scores))"
   ]
  },
  {
   "cell_type": "code",
   "execution_count": 318,
   "metadata": {},
   "outputs": [
    {
     "data": {
      "text/plain": [
       "0.7545844765497728"
      ]
     },
     "execution_count": 318,
     "metadata": {},
     "output_type": "execute_result"
    }
   ],
   "source": [
    "roc_auc_score(wz_labels, wz_scores)"
   ]
  },
  {
   "cell_type": "markdown",
   "metadata": {},
   "source": [
    "## zbot HMM"
   ]
  },
  {
   "cell_type": "code",
   "execution_count": 319,
   "metadata": {},
   "outputs": [],
   "source": [
    "zw_labels = []\n",
    "zw_scores = []"
   ]
  },
  {
   "cell_type": "code",
   "execution_count": 320,
   "metadata": {},
   "outputs": [
    {
     "name": "stdout",
     "output_type": "stream",
     "text": [
      "1300\n",
      "1300\n"
     ]
    }
   ],
   "source": [
    "zw = open('HMM Scores/zbotHMM_zbot vs winwebsec.txt', 'r')\n",
    "lines = zw.read().splitlines()\n",
    "\n",
    "for line in lines:\n",
    "    s = line.split(',')\n",
    "    zw_labels.append(s[0])\n",
    "    zw_scores.append(float(s[1]) * -1)\n",
    "    \n",
    "zw.close()\n",
    "\n",
    "print(len(zw_labels))\n",
    "print(len(zw_scores))"
   ]
  },
  {
   "cell_type": "code",
   "execution_count": 321,
   "metadata": {},
   "outputs": [
    {
     "data": {
      "text/plain": [
       "0.540625267941353"
      ]
     },
     "execution_count": 321,
     "metadata": {},
     "output_type": "execute_result"
    }
   ],
   "source": [
    "roc_auc_score(zw_labels, zw_scores)"
   ]
  },
  {
   "cell_type": "markdown",
   "metadata": {},
   "source": [
    "# Test 3 and 4, winwebsec vs zeroaccess"
   ]
  },
  {
   "cell_type": "markdown",
   "metadata": {},
   "source": [
    "## winwebsec HMM"
   ]
  },
  {
   "cell_type": "code",
   "execution_count": 322,
   "metadata": {},
   "outputs": [],
   "source": [
    "wz_labels = []\n",
    "wz_scores = []"
   ]
  },
  {
   "cell_type": "code",
   "execution_count": 323,
   "metadata": {},
   "outputs": [
    {
     "name": "stdout",
     "output_type": "stream",
     "text": [
      "1133\n",
      "1133\n"
     ]
    }
   ],
   "source": [
    "wz = open('HMM Scores/winwebsecHMM_winwebsec vs zeroaccess.txt', 'r')\n",
    "lines = wz.read().splitlines()\n",
    "\n",
    "for line in lines:\n",
    "    s = line.split(',')\n",
    "    wz_labels.append(s[0])\n",
    "    wz_scores.append(float(s[1]) * -1)\n",
    "    \n",
    "wz.close()\n",
    "\n",
    "print(len(wz_labels))\n",
    "print(len(wz_scores))"
   ]
  },
  {
   "cell_type": "code",
   "execution_count": 324,
   "metadata": {},
   "outputs": [
    {
     "data": {
      "text/plain": [
       "0.8700086119020001"
      ]
     },
     "execution_count": 324,
     "metadata": {},
     "output_type": "execute_result"
    }
   ],
   "source": [
    "roc_auc_score(wz_labels, wz_scores)"
   ]
  },
  {
   "cell_type": "markdown",
   "metadata": {},
   "source": [
    "## zeroaccess HMM"
   ]
  },
  {
   "cell_type": "code",
   "execution_count": 325,
   "metadata": {},
   "outputs": [],
   "source": [
    "zw_labels = []\n",
    "zw_scores = []"
   ]
  },
  {
   "cell_type": "code",
   "execution_count": 326,
   "metadata": {},
   "outputs": [
    {
     "name": "stdout",
     "output_type": "stream",
     "text": [
      "1133\n",
      "1133\n"
     ]
    }
   ],
   "source": [
    "zw = open('HMM Scores/zeroaccessHMM_zeroaccess vs winwebsec.txt', 'r')\n",
    "lines = zw.read().splitlines()\n",
    "\n",
    "for line in lines:\n",
    "    s = line.split(',')\n",
    "    zw_labels.append(s[0])\n",
    "    zw_scores.append(float(s[1]) * -1)\n",
    "    \n",
    "zw.close()\n",
    "\n",
    "print(len(zw_labels))\n",
    "print(len(zw_scores))"
   ]
  },
  {
   "cell_type": "code",
   "execution_count": 327,
   "metadata": {},
   "outputs": [
    {
     "data": {
      "text/plain": [
       "0.6727125733769201"
      ]
     },
     "execution_count": 327,
     "metadata": {},
     "output_type": "execute_result"
    }
   ],
   "source": [
    "roc_auc_score(zw_labels, zw_scores)"
   ]
  },
  {
   "cell_type": "markdown",
   "metadata": {},
   "source": [
    "# Test 5 and 6, zbot vs zeroaccess"
   ]
  },
  {
   "cell_type": "markdown",
   "metadata": {},
   "source": [
    "## zbot HMM"
   ]
  },
  {
   "cell_type": "code",
   "execution_count": 328,
   "metadata": {},
   "outputs": [],
   "source": [
    "zz_labels = []\n",
    "zz_scores = []"
   ]
  },
  {
   "cell_type": "code",
   "execution_count": 329,
   "metadata": {},
   "outputs": [
    {
     "name": "stdout",
     "output_type": "stream",
     "text": [
      "689\n",
      "689\n"
     ]
    }
   ],
   "source": [
    "zz = open('HMM Scores/zbotHMM_zbot vs zeroaccess.txt', 'r')\n",
    "lines = zz.read().splitlines()\n",
    "\n",
    "for line in lines:\n",
    "    s = line.split(',')\n",
    "    zz_labels.append(s[0])\n",
    "    zz_scores.append(float(s[1]) * -1)\n",
    "    \n",
    "zz.close()\n",
    "\n",
    "print(len(zz_labels))\n",
    "print(len(zz_scores))"
   ]
  },
  {
   "cell_type": "code",
   "execution_count": 330,
   "metadata": {},
   "outputs": [
    {
     "data": {
      "text/plain": [
       "0.632130196583951"
      ]
     },
     "execution_count": 330,
     "metadata": {},
     "output_type": "execute_result"
    }
   ],
   "source": [
    "roc_auc_score(zz_labels, zz_scores)"
   ]
  },
  {
   "cell_type": "markdown",
   "metadata": {},
   "source": [
    "## zeroaccess HMM"
   ]
  },
  {
   "cell_type": "code",
   "execution_count": 337,
   "metadata": {},
   "outputs": [],
   "source": [
    "zz_labels = []\n",
    "zz_scores = []"
   ]
  },
  {
   "cell_type": "code",
   "execution_count": 338,
   "metadata": {},
   "outputs": [
    {
     "name": "stdout",
     "output_type": "stream",
     "text": [
      "689\n",
      "689\n"
     ]
    }
   ],
   "source": [
    "zz = open('HMM Scores/zeroaccessHMM_zeroaccess vs zbot.txt', 'r')\n",
    "lines = zz.read().splitlines()\n",
    "\n",
    "for line in lines:\n",
    "    s = line.split(',')\n",
    "    zz_labels.append(s[0])\n",
    "    zz_scores.append(float(s[1]) * -1)\n",
    "    \n",
    "zz.close()\n",
    "\n",
    "print(len(zz_labels))\n",
    "print(len(zz_scores))"
   ]
  },
  {
   "cell_type": "code",
   "execution_count": 339,
   "metadata": {},
   "outputs": [
    {
     "data": {
      "text/plain": [
       "0.7598560532817705"
      ]
     },
     "execution_count": 339,
     "metadata": {},
     "output_type": "execute_result"
    }
   ],
   "source": [
    "roc_auc_score(zz_labels, zz_scores)"
   ]
  },
  {
   "cell_type": "code",
   "execution_count": null,
   "metadata": {},
   "outputs": [],
   "source": []
  },
  {
   "cell_type": "code",
   "execution_count": null,
   "metadata": {},
   "outputs": [],
   "source": []
  },
  {
   "cell_type": "code",
   "execution_count": 1,
   "metadata": {},
   "outputs": [
    {
     "name": "stdout",
     "output_type": "stream",
     "text": [
      "1000\n"
     ]
    }
   ],
   "source": [
    "g = 'thefultoncountygrandjurysaidfridayaninvestigationofatlantasrecentprimaryelectionproducednoevidencethatanyirregularitiestookplacethejuryfurthersaidintermendpresentmentsthatthecityexecutivecommitteewhichhadoverallchargeoftheelectiondeservesthepraiseandthanksofthecityofatlantaforthemannerinwhichtheelectionwasconductedtheseptemberoctobertermjuryhadbeenchargedbyfultonsuperiorcourtjudgedurwoodpyetoinvestigatereportsofpossibleirregularitiesinthehardfoughtprimarywhichwaswonbymayornominateivanallenjronlyarelativehandfulofsuchreportswasreceivedthejurysaidconsideringthewidespreadinterestintheelectionthenumberofvotersandthesizeofthiscitythejurysaiditdidfindthatmanyofgeorgiasregistrationandelectionlawsareoutmodedorinadequateandoftenambiguousitrecommendedthatfultonlegislatorsacttohavetheselawsstudiedandrevisedtotheendofmodernizingandimprovingthemthegrandjurycommentedonanumberofothertopicsamongthemtheatlantaandfultoncountypurchasingdepartmentswhichitsaidarewelloperatedandfollowgenerallyacceptedpracti'\n",
    "\n",
    "print(len(g))"
   ]
  },
  {
   "cell_type": "code",
   "execution_count": null,
   "metadata": {},
   "outputs": [],
   "source": []
  }
 ],
 "metadata": {
  "kernelspec": {
   "display_name": "Python 3",
   "language": "python",
   "name": "python3"
  },
  "language_info": {
   "codemirror_mode": {
    "name": "ipython",
    "version": 3
   },
   "file_extension": ".py",
   "mimetype": "text/x-python",
   "name": "python",
   "nbconvert_exporter": "python",
   "pygments_lexer": "ipython3",
   "version": "3.8.5"
  }
 },
 "nbformat": 4,
 "nbformat_minor": 4
}

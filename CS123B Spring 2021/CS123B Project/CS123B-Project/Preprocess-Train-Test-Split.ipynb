{
 "cells": [
  {
   "cell_type": "code",
   "execution_count": null,
   "metadata": {},
   "outputs": [],
   "source": [
    "# 65 lines of code"
   ]
  },
  {
   "cell_type": "code",
   "execution_count": 4,
   "metadata": {},
   "outputs": [],
   "source": [
    "import numpy as np\n",
    "import random\n",
    "from sklearn.model_selection import train_test_split"
   ]
  },
  {
   "cell_type": "code",
   "execution_count": 5,
   "metadata": {},
   "outputs": [],
   "source": [
    "class Sequence: # 4\n",
    "    def __init__(self, seq_name, seq_data):\n",
    "        self.name = seq_name\n",
    "        self.data = seq_data"
   ]
  },
  {
   "cell_type": "markdown",
   "metadata": {},
   "source": [
    "# Splitting into training and testing data"
   ]
  },
  {
   "cell_type": "code",
   "execution_count": 6,
   "metadata": {},
   "outputs": [
    {
     "name": "stdout",
     "output_type": "stream",
     "text": [
      ">YP_009755839.1 spike glycoprotein [Shrew coronavirus]\n",
      ">YP_009389425.1 spike glycoprotein [Wencheng Sm shrew coronavirus]\n",
      ">YP_001552236.1 spike glycoprotein [Rhinolophus bat coronavirus HKU2]\n",
      ">YP_009336484.1 spike glycoprotein [Lucheng Rn rat coronavirus]\n",
      ">YP_173238.1 spike glycoprotein [Human coronavirus HKU1]\n",
      ">YP_009755834.1 spike glycoprotein [Rodent coronavirus]\n",
      ">YP_005454245.1 spike protein [Rabbit coronavirus HKU14]\n",
      ">YP_009555241.1 spike surface glycoprotein [Human coronavirus OC43]\n",
      ">YP_009513010.1 spike protein [Betacoronavirus Erinaceus/VMC/DEU/2012]\n",
      ">YP_007188579.1 spike protein [Betacoronavirus England 1]\n",
      ">YP_009047204.1 spike protein [Middle East respiratory syndrome-related coronavirus]\n",
      ">YP_003858584.1 spike protein [Bat coronavirus BM48-31/BGR/2008]\n",
      ">YP_009825051.1 spike glycoprotein [SARS coronavirus Tor2]\n",
      ">pdb|6ZWV|B Chain B, Spike glycoprotein\n",
      ">YP_009724390.1 surface glycoprotein [Severe acute respiratory syndrome coronavirus 2]\n",
      ">YP_009824990.1 spike protein [Bat coronavirus]\n",
      ">YP_001039971.1 spike glycoprotein [Rousettus bat coronavirus HKU9]\n",
      ">YP_003767.1 Spike protein [Human coronavirus NL63]\n",
      ">NP_073551.1 surface glycoprotein [Human coronavirus 229E]\n",
      ">YP_005352854.1 S gene product [Magpie-robin coronavirus HKU18]\n",
      ">YP_002308479.1 spike glycoprotein [Bulbul coronavirus HKU11-934]\n",
      ">YP_009513021.1 spike glycoprotein [Porcine coronavirus HKU15]\n",
      ">YP_009755897.1 spike protein [Canada goose coronavirus]\n",
      ">YP_001941166.1 spike protein [Turkey coronavirus]\n",
      ">YP_009825008.1 spike protein [Duck coronavirus]\n"
     ]
    }
   ],
   "source": [
    "covid = [] \n",
    "\n",
    "with open('Sequences Data/Combined Data/aligned_covid_data.txt', 'r') as file:\n",
    "    lines = file.read().splitlines()\n",
    "    name = lines[0]\n",
    "    sequence = ''\n",
    "    \n",
    "    for i in range(1, len(lines)):\n",
    "        if lines[i][0] == '>':\n",
    "            covid.append(Sequence(name, sequence))\n",
    "            name = lines[i]\n",
    "            sequence = ''\n",
    "        else:\n",
    "            sequence += lines[i]\n",
    "    \n",
    "    covid.append(Sequence(name, sequence))\n",
    "\n",
    "for sequence in covid:\n",
    "    print(sequence.name)"
   ]
  },
  {
   "cell_type": "code",
   "execution_count": 9,
   "metadata": {},
   "outputs": [
    {
     "name": "stdout",
     "output_type": "stream",
     "text": [
      ">NP_056660.1 hemagglutinin [Influenza B virus (B/Lee/1940)]\n",
      ">YP_009118475.1 hemagglutinin [Influenza A virus (A/Shanghai/02/2013(H7N9))]\n",
      ">YP_308669.1 hemagglutinin [Influenza A virus (A/goose/Guangdong/1/1996(H5N1))]\n",
      ">NP_040980.1 haemagglutinin [Influenza A virus (A/Puerto Rico/8/1934(H1N1))]\n",
      ">YP_009118626.1 hemagglutinin [Influenza A virus (A/California/07/2009(H1N1))]\n",
      ">YP_009513277.1 spike glycoprotein [Bombali ebolavirus]\n",
      ">NP_066246.1 spike glycoprotein [Zaire ebolavirus]\n",
      ">YP_003815435.1 spike glycoprotein [Bundibugyo ebolavirus]\n",
      ">YP_003815426.1 spike glycoprotein [Tai Forest ebolavirus]\n",
      ">YP_138523.1 spike glycoprotein [Sudan ebolavirus]\n",
      ">NP_690583.1 spike glycoprotein [Reston ebolavirus]\n",
      ">NP_604440.1 F glycoprotein [Human respirovirus 1]\n",
      ">NP_899659.1 fusion protein F [Reptilian ferlavirus]\n",
      ">YP_009512962.1 fusion protein [Feline morbillivirus]\n",
      ">YP_133826.1 fusion protein [Peste des petits ruminants virus]\n",
      ">YP_087124.2 F protein [Rinderpest virus (strain Kabete O)]\n",
      ">NP_056922.1 fusion protein [Measles morbillivirus]\n",
      ">NP_047205.1 fusion protein F [Canine morbillivirus]\n",
      ">YP_009177602.1 fusion protein [Phocine morbillivirus]\n",
      ">YP_009094094.1 fusion protein [Mojiang virus]\n",
      ">YP_009666852.1 F protein [Mount Mabu Lophuromys virus 2]\n",
      ">YP_007008150.1 fusion protein [Avian paramyxovirus 4]\n",
      ">YP_008378663.1 fusion protein [Human parainfluenza virus 4a]\n",
      ">YP_138508.1 fusion protein [Simian orthorubulavirus]\n",
      ">YP_009094078.1 fusion protein [Tuhoko virus 3]\n"
     ]
    }
   ],
   "source": [
    "non_covid = [] \n",
    "\n",
    "with open('Sequences Data/Combined Data/aligned_non_covid_data.txt', 'r') as file:\n",
    "    lines = file.read().splitlines()\n",
    "    name = lines[0]\n",
    "    sequence = ''\n",
    "    \n",
    "    for i in range(1, len(lines)):\n",
    "        if lines[i][0] == '>':\n",
    "            non_covid.append(Sequence(name, sequence))\n",
    "            name = lines[i]\n",
    "            sequence = ''\n",
    "        else:\n",
    "            sequence += lines[i]\n",
    "    \n",
    "    non_covid.append(Sequence(name, sequence))\n",
    "\n",
    "for sequence in non_covid:\n",
    "    print(sequence.name)"
   ]
  },
  {
   "cell_type": "markdown",
   "metadata": {},
   "source": [
    "## Note that there will be different sequences for training and testing each it is ran"
   ]
  },
  {
   "cell_type": "code",
   "execution_count": 41,
   "metadata": {},
   "outputs": [],
   "source": [
    "random.shuffle(covid)\n",
    "covid_training, covid_testing = train_test_split(covid, train_size = 0.8, test_size = 0.2)"
   ]
  },
  {
   "cell_type": "code",
   "execution_count": 42,
   "metadata": {},
   "outputs": [
    {
     "name": "stdout",
     "output_type": "stream",
     "text": [
      ">YP_009755834.1 spike glycoprotein [Rodent coronavirus]\n",
      ">YP_003858584.1 spike protein [Bat coronavirus BM48-31/BGR/2008]\n",
      ">YP_009724390.1 surface glycoprotein [Severe acute respiratory syndrome coronavirus 2]\n",
      ">YP_009824990.1 spike protein [Bat coronavirus]\n",
      ">YP_009389425.1 spike glycoprotein [Wencheng Sm shrew coronavirus]\n"
     ]
    }
   ],
   "source": [
    "for data in covid_testing:\n",
    "    print(data.name)"
   ]
  },
  {
   "cell_type": "code",
   "execution_count": 15,
   "metadata": {},
   "outputs": [],
   "source": [
    "random.shuffle(non_covid)\n",
    "non_covid_training, non_covid_testing = train_test_split(non_covid, train_size = 0.8, test_size = 0.2) #108"
   ]
  },
  {
   "cell_type": "code",
   "execution_count": 16,
   "metadata": {},
   "outputs": [
    {
     "name": "stdout",
     "output_type": "stream",
     "text": [
      ">YP_087124.2 F protein [Rinderpest virus (strain Kabete O)]\n",
      ">YP_009512962.1 fusion protein [Feline morbillivirus]\n",
      ">YP_009094094.1 fusion protein [Mojiang virus]\n",
      ">YP_009666852.1 F protein [Mount Mabu Lophuromys virus 2]\n",
      ">NP_047205.1 fusion protein F [Canine morbillivirus]\n"
     ]
    }
   ],
   "source": [
    "for data in non_covid_testing:\n",
    "    print(data.name)"
   ]
  },
  {
   "cell_type": "markdown",
   "metadata": {},
   "source": [
    "# Writing training and testing files for the PHMM app given by Dr. Heller"
   ]
  },
  {
   "cell_type": "code",
   "execution_count": 46,
   "metadata": {},
   "outputs": [],
   "source": [
    "covid_trainFile = open('PHMM Files/Data/training_covid.fasta', 'w')\n",
    "for sequences in covid_training:\n",
    "    covid_trainFile.write(sequences.name + '\\n')\n",
    "    covid_trainFile.write(sequences.data.replace('-', '') + '\\n\\n')\n",
    "covid_trainFile.close()\n",
    "\n",
    "covid_testFile = open('PHMM Files/Data/testing_covid.fasta', 'w')\n",
    "for sequences in covid_testing:\n",
    "    covid_testFile.write(sequences.name + '\\n')\n",
    "    covid_testFile.write(sequences.data.replace('-', '') + '\\n\\n')\n",
    "covid_testFile.close()"
   ]
  },
  {
   "cell_type": "code",
   "execution_count": 47,
   "metadata": {},
   "outputs": [],
   "source": [
    "non_covid_trainFile = open('PHMM Files/Data/training_non_covid.fasta', 'w')\n",
    "for sequences in non_covid_training:\n",
    "    non_covid_trainFile.write(sequences.name + '\\n')\n",
    "    non_covid_trainFile.write(sequences.data.replace('-', '') + '\\n\\n')\n",
    "non_covid_trainFile.close()\n",
    "\n",
    "non_covid_testFile = open('PHMM Files/Data/testing_non_covid.fasta', 'w')\n",
    "for sequences in non_covid_testing:\n",
    "    non_covid_testFile.write(sequences.name + '\\n')\n",
    "    non_covid_testFile.write(sequences.data.replace('-', '') + '\\n\\n')\n",
    "non_covid_testFile.close()"
   ]
  }
 ],
 "metadata": {
  "kernelspec": {
   "display_name": "Python3-TensorFlow2",
   "language": "python",
   "name": "python3-tensorflow2"
  },
  "language_info": {
   "codemirror_mode": {
    "name": "ipython",
    "version": 3
   },
   "file_extension": ".py",
   "mimetype": "text/x-python",
   "name": "python",
   "nbconvert_exporter": "python",
   "pygments_lexer": "ipython3",
   "version": "3.7.9"
  }
 },
 "nbformat": 4,
 "nbformat_minor": 4
}
